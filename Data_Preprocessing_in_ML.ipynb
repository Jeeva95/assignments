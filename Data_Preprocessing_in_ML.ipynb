{
 "cells": [
  {
   "cell_type": "markdown",
   "id": "fa4e4215",
   "metadata": {},
   "source": [
    "# Data Preprocessing"
   ]
  },
  {
   "cell_type": "markdown",
   "id": "f634286d",
   "metadata": {},
   "source": [
    "# 1. Getting the dataset"
   ]
  },
  {
   "cell_type": "markdown",
   "id": "ccaa9114",
   "metadata": {},
   "source": [
    "# 2. Importing libraries"
   ]
  },
  {
   "cell_type": "code",
   "execution_count": 1,
   "id": "ded36163",
   "metadata": {},
   "outputs": [],
   "source": [
    "import numpy as np\n",
    "import matplotlib.pyplot as mpt\n",
    "import pandas as pd\n"
   ]
  },
  {
   "cell_type": "markdown",
   "id": "dc341f1a",
   "metadata": {},
   "source": [
    "# 3. Importing the datasets"
   ]
  },
  {
   "cell_type": "code",
   "execution_count": 2,
   "id": "4e9d72ad",
   "metadata": {},
   "outputs": [
    {
     "data": {
      "text/html": [
       "<div>\n",
       "<style scoped>\n",
       "    .dataframe tbody tr th:only-of-type {\n",
       "        vertical-align: middle;\n",
       "    }\n",
       "\n",
       "    .dataframe tbody tr th {\n",
       "        vertical-align: top;\n",
       "    }\n",
       "\n",
       "    .dataframe thead th {\n",
       "        text-align: right;\n",
       "    }\n",
       "</style>\n",
       "<table border=\"1\" class=\"dataframe\">\n",
       "  <thead>\n",
       "    <tr style=\"text-align: right;\">\n",
       "      <th></th>\n",
       "      <th>Country</th>\n",
       "      <th>Age</th>\n",
       "      <th>Salary</th>\n",
       "      <th>Purchased</th>\n",
       "    </tr>\n",
       "  </thead>\n",
       "  <tbody>\n",
       "    <tr>\n",
       "      <th>0</th>\n",
       "      <td>France</td>\n",
       "      <td>44.0</td>\n",
       "      <td>72000.0</td>\n",
       "      <td>No</td>\n",
       "    </tr>\n",
       "    <tr>\n",
       "      <th>1</th>\n",
       "      <td>Spain</td>\n",
       "      <td>27.0</td>\n",
       "      <td>48000.0</td>\n",
       "      <td>Yes</td>\n",
       "    </tr>\n",
       "    <tr>\n",
       "      <th>2</th>\n",
       "      <td>Germany</td>\n",
       "      <td>30.0</td>\n",
       "      <td>54000.0</td>\n",
       "      <td>No</td>\n",
       "    </tr>\n",
       "    <tr>\n",
       "      <th>3</th>\n",
       "      <td>Spain</td>\n",
       "      <td>38.0</td>\n",
       "      <td>61000.0</td>\n",
       "      <td>No</td>\n",
       "    </tr>\n",
       "    <tr>\n",
       "      <th>4</th>\n",
       "      <td>Germany</td>\n",
       "      <td>40.0</td>\n",
       "      <td>NaN</td>\n",
       "      <td>Yes</td>\n",
       "    </tr>\n",
       "    <tr>\n",
       "      <th>5</th>\n",
       "      <td>France</td>\n",
       "      <td>35.0</td>\n",
       "      <td>58000.0</td>\n",
       "      <td>Yes</td>\n",
       "    </tr>\n",
       "    <tr>\n",
       "      <th>6</th>\n",
       "      <td>Spain</td>\n",
       "      <td>NaN</td>\n",
       "      <td>52000.0</td>\n",
       "      <td>No</td>\n",
       "    </tr>\n",
       "    <tr>\n",
       "      <th>7</th>\n",
       "      <td>France</td>\n",
       "      <td>48.0</td>\n",
       "      <td>79000.0</td>\n",
       "      <td>Yes</td>\n",
       "    </tr>\n",
       "    <tr>\n",
       "      <th>8</th>\n",
       "      <td>Germany</td>\n",
       "      <td>50.0</td>\n",
       "      <td>83000.0</td>\n",
       "      <td>No</td>\n",
       "    </tr>\n",
       "    <tr>\n",
       "      <th>9</th>\n",
       "      <td>France</td>\n",
       "      <td>37.0</td>\n",
       "      <td>67000.0</td>\n",
       "      <td>Yes</td>\n",
       "    </tr>\n",
       "  </tbody>\n",
       "</table>\n",
       "</div>"
      ],
      "text/plain": [
       "   Country   Age   Salary Purchased\n",
       "0   France  44.0  72000.0        No\n",
       "1    Spain  27.0  48000.0       Yes\n",
       "2  Germany  30.0  54000.0        No\n",
       "3    Spain  38.0  61000.0        No\n",
       "4  Germany  40.0      NaN       Yes\n",
       "5   France  35.0  58000.0       Yes\n",
       "6    Spain   NaN  52000.0        No\n",
       "7   France  48.0  79000.0       Yes\n",
       "8  Germany  50.0  83000.0        No\n",
       "9   France  37.0  67000.0       Yes"
      ]
     },
     "execution_count": 2,
     "metadata": {},
     "output_type": "execute_result"
    }
   ],
   "source": [
    "data_set = pd.read_csv('data.csv')\n",
    "data_set"
   ]
  },
  {
   "cell_type": "markdown",
   "id": "6c03816d",
   "metadata": {},
   "source": [
    "# Extracting dependent and independent variables"
   ]
  },
  {
   "cell_type": "markdown",
   "id": "d586e7f0",
   "metadata": {},
   "source": [
    "# 1. Extracting dependent variable"
   ]
  },
  {
   "cell_type": "code",
   "execution_count": 3,
   "id": "6017ff7b",
   "metadata": {},
   "outputs": [
    {
     "data": {
      "text/plain": [
       "array([['France', 44.0, 72000.0],\n",
       "       ['Spain', 27.0, 48000.0],\n",
       "       ['Germany', 30.0, 54000.0],\n",
       "       ['Spain', 38.0, 61000.0],\n",
       "       ['Germany', 40.0, nan],\n",
       "       ['France', 35.0, 58000.0],\n",
       "       ['Spain', nan, 52000.0],\n",
       "       ['France', 48.0, 79000.0],\n",
       "       ['Germany', 50.0, 83000.0],\n",
       "       ['France', 37.0, 67000.0]], dtype=object)"
      ]
     },
     "execution_count": 3,
     "metadata": {},
     "output_type": "execute_result"
    }
   ],
   "source": [
    "x = data_set.iloc[:,:-1].values\n",
    "x"
   ]
  },
  {
   "cell_type": "markdown",
   "id": "61a1ebb0",
   "metadata": {},
   "source": [
    "# 2. Extracting the independent variable"
   ]
  },
  {
   "cell_type": "code",
   "execution_count": 70,
   "id": "ddd0b1cd",
   "metadata": {},
   "outputs": [
    {
     "data": {
      "text/plain": [
       "array(['No', 'Yes', 'No', 'No', 'Yes', 'Yes', 'No', 'Yes', 'No', 'Yes'],\n",
       "      dtype=object)"
      ]
     },
     "execution_count": 70,
     "metadata": {},
     "output_type": "execute_result"
    }
   ],
   "source": [
    "y = data_set.iloc[:,3].values\n",
    "y"
   ]
  },
  {
   "cell_type": "markdown",
   "id": "e12a835b",
   "metadata": {},
   "source": [
    "# 4. Handling missing data"
   ]
  },
  {
   "cell_type": "code",
   "execution_count": 17,
   "id": "d41bc6ff",
   "metadata": {},
   "outputs": [],
   "source": [
    "from sklearn.impute import SimpleImputer\n",
    "imputer = SimpleImputer(missing_values = np.nan, strategy = 'mean')\n",
    "imputerimputer = imputer.fit(x[:,1:3])\n",
    "x[:,1:3] = imputer.transform(x[:,1:3])\n"
   ]
  },
  {
   "cell_type": "markdown",
   "id": "a8be5191",
   "metadata": {},
   "source": [
    "# 5. Encoding categorical data"
   ]
  },
  {
   "cell_type": "markdown",
   "id": "1162d7e5",
   "metadata": {},
   "source": [
    "# for country variable"
   ]
  },
  {
   "cell_type": "code",
   "execution_count": 71,
   "id": "f1c11382",
   "metadata": {},
   "outputs": [
    {
     "data": {
      "text/plain": [
       "array([[0, 44.0, 72000.0],\n",
       "       [2, 27.0, 48000.0],\n",
       "       [1, 30.0, 54000.0],\n",
       "       [2, 38.0, 61000.0],\n",
       "       [1, 40.0, nan],\n",
       "       [0, 35.0, 58000.0],\n",
       "       [2, nan, 52000.0],\n",
       "       [0, 48.0, 79000.0],\n",
       "       [1, 50.0, 83000.0],\n",
       "       [0, 37.0, 67000.0]], dtype=object)"
      ]
     },
     "execution_count": 71,
     "metadata": {},
     "output_type": "execute_result"
    }
   ],
   "source": [
    "from sklearn.preprocessing import LabelEncoder\n",
    "labelEncoder_x = LabelEncoder()\n",
    "x[:,0] =labelEncoder_x.fit_transform(x[:,0])\n",
    "x\n"
   ]
  },
  {
   "cell_type": "markdown",
   "id": "0ee644ba",
   "metadata": {},
   "source": [
    "# Encoding for dummy variables"
   ]
  },
  {
   "cell_type": "code",
   "execution_count": 6,
   "id": "2e2ccd60",
   "metadata": {},
   "outputs": [
    {
     "data": {
      "text/plain": [
       "array([[1., 0., 0., 0., 0., 0., 0., 0., 0., 1., 0., 0., 0., 0., 0., 0.,\n",
       "        0., 0., 0., 1., 0., 0., 0.],\n",
       "       [0., 0., 1., 1., 0., 0., 0., 0., 0., 0., 0., 0., 0., 1., 0., 0.,\n",
       "        0., 0., 0., 0., 0., 0., 0.],\n",
       "       [0., 1., 0., 0., 1., 0., 0., 0., 0., 0., 0., 0., 0., 0., 0., 1.,\n",
       "        0., 0., 0., 0., 0., 0., 0.],\n",
       "       [0., 0., 1., 0., 0., 0., 0., 1., 0., 0., 0., 0., 0., 0., 0., 0.,\n",
       "        0., 1., 0., 0., 0., 0., 0.],\n",
       "       [0., 1., 0., 0., 0., 0., 0., 0., 1., 0., 0., 0., 0., 0., 0., 0.,\n",
       "        0., 0., 0., 0., 0., 0., 1.],\n",
       "       [1., 0., 0., 0., 0., 1., 0., 0., 0., 0., 0., 0., 0., 0., 0., 0.,\n",
       "        1., 0., 0., 0., 0., 0., 0.],\n",
       "       [0., 0., 1., 0., 0., 0., 0., 0., 0., 0., 0., 0., 1., 0., 1., 0.,\n",
       "        0., 0., 0., 0., 0., 0., 0.],\n",
       "       [1., 0., 0., 0., 0., 0., 0., 0., 0., 0., 1., 0., 0., 0., 0., 0.,\n",
       "        0., 0., 0., 0., 1., 0., 0.],\n",
       "       [0., 1., 0., 0., 0., 0., 0., 0., 0., 0., 0., 1., 0., 0., 0., 0.,\n",
       "        0., 0., 0., 0., 0., 1., 0.],\n",
       "       [1., 0., 0., 0., 0., 0., 1., 0., 0., 0., 0., 0., 0., 0., 0., 0.,\n",
       "        0., 0., 1., 0., 0., 0., 0.]])"
      ]
     },
     "execution_count": 6,
     "metadata": {},
     "output_type": "execute_result"
    }
   ],
   "source": [
    "from sklearn.preprocessing import OneHotEncoder\n",
    "oneHotEncoder = OneHotEncoder()\n",
    "x = oneHotEncoder.fit_transform(x).toarray()\n",
    "x\n",
    "\n"
   ]
  },
  {
   "cell_type": "markdown",
   "id": "dc0bce6c",
   "metadata": {},
   "source": [
    "# for purchased variable"
   ]
  },
  {
   "cell_type": "code",
   "execution_count": 73,
   "id": "425a0187",
   "metadata": {},
   "outputs": [
    {
     "data": {
      "text/plain": [
       "array([0, 1, 0, 0, 1, 1, 0, 1, 0, 1])"
      ]
     },
     "execution_count": 73,
     "metadata": {},
     "output_type": "execute_result"
    }
   ],
   "source": [
    "from sklearn.preprocessing import LabelEncoder\n",
    "label_encoder_y= LabelEncoder()\n",
    "y = label_encoder_y.fit_transform(y)\n",
    "y"
   ]
  },
  {
   "cell_type": "markdown",
   "id": "07277779",
   "metadata": {},
   "source": [
    "# 6. Splitting the dataset into training set and test set"
   ]
  },
  {
   "cell_type": "code",
   "execution_count": 74,
   "id": "f0bfa424",
   "metadata": {},
   "outputs": [
    {
     "data": {
      "text/plain": [
       "array([[0., 1., 0., 0., 0., 0., 0., 0., 1., 0., 0., 0., 0., 0., 0., 0.,\n",
       "        0., 0., 0., 0., 0., 0., 1.],\n",
       "       [1., 0., 0., 0., 0., 0., 1., 0., 0., 0., 0., 0., 0., 0., 0., 0.,\n",
       "        0., 0., 1., 0., 0., 0., 0.],\n",
       "       [0., 0., 1., 1., 0., 0., 0., 0., 0., 0., 0., 0., 0., 1., 0., 0.,\n",
       "        0., 0., 0., 0., 0., 0., 0.],\n",
       "       [0., 0., 1., 0., 0., 0., 0., 0., 0., 0., 0., 0., 1., 0., 1., 0.,\n",
       "        0., 0., 0., 0., 0., 0., 0.],\n",
       "       [1., 0., 0., 0., 0., 0., 0., 0., 0., 0., 1., 0., 0., 0., 0., 0.,\n",
       "        0., 0., 0., 0., 1., 0., 0.],\n",
       "       [0., 0., 1., 0., 0., 0., 0., 1., 0., 0., 0., 0., 0., 0., 0., 0.,\n",
       "        0., 1., 0., 0., 0., 0., 0.],\n",
       "       [1., 0., 0., 0., 0., 0., 0., 0., 0., 1., 0., 0., 0., 0., 0., 0.,\n",
       "        0., 0., 0., 1., 0., 0., 0.],\n",
       "       [1., 0., 0., 0., 0., 1., 0., 0., 0., 0., 0., 0., 0., 0., 0., 0.,\n",
       "        1., 0., 0., 0., 0., 0., 0.]])"
      ]
     },
     "execution_count": 74,
     "metadata": {},
     "output_type": "execute_result"
    }
   ],
   "source": [
    "from sklearn.model_selection import train_test_split\n",
    "x_train,x_test,y_train,y_test = train_test_split(x,y,test_size = 0.2, random_state = 0)\n",
    "x_train"
   ]
  },
  {
   "cell_type": "code",
   "execution_count": 75,
   "id": "ee164fcf",
   "metadata": {},
   "outputs": [
    {
     "data": {
      "text/plain": [
       "array([1, 1, 1, 0, 1, 0, 0, 1])"
      ]
     },
     "execution_count": 75,
     "metadata": {},
     "output_type": "execute_result"
    }
   ],
   "source": [
    "y_train"
   ]
  },
  {
   "cell_type": "markdown",
   "id": "cc18229d",
   "metadata": {},
   "source": [
    "# 7. Feature scaling"
   ]
  },
  {
   "cell_type": "code",
   "execution_count": 76,
   "id": "5c3b4595",
   "metadata": {},
   "outputs": [
    {
     "data": {
      "text/plain": [
       "array([[-1.        ,  2.64575131, -0.77459667, -0.37796447,  0.        ,\n",
       "        -0.37796447, -0.37796447, -0.37796447,  2.64575131, -0.37796447,\n",
       "        -0.37796447,  0.        , -0.37796447, -0.37796447, -0.37796447,\n",
       "         0.        , -0.37796447, -0.37796447, -0.37796447, -0.37796447,\n",
       "        -0.37796447,  0.        ,  2.64575131],\n",
       "       [ 1.        , -0.37796447, -0.77459667, -0.37796447,  0.        ,\n",
       "        -0.37796447,  2.64575131, -0.37796447, -0.37796447, -0.37796447,\n",
       "        -0.37796447,  0.        , -0.37796447, -0.37796447, -0.37796447,\n",
       "         0.        , -0.37796447, -0.37796447,  2.64575131, -0.37796447,\n",
       "        -0.37796447,  0.        , -0.37796447],\n",
       "       [-1.        , -0.37796447,  1.29099445,  2.64575131,  0.        ,\n",
       "        -0.37796447, -0.37796447, -0.37796447, -0.37796447, -0.37796447,\n",
       "        -0.37796447,  0.        , -0.37796447,  2.64575131, -0.37796447,\n",
       "         0.        , -0.37796447, -0.37796447, -0.37796447, -0.37796447,\n",
       "        -0.37796447,  0.        , -0.37796447],\n",
       "       [-1.        , -0.37796447,  1.29099445, -0.37796447,  0.        ,\n",
       "        -0.37796447, -0.37796447, -0.37796447, -0.37796447, -0.37796447,\n",
       "        -0.37796447,  0.        ,  2.64575131, -0.37796447,  2.64575131,\n",
       "         0.        , -0.37796447, -0.37796447, -0.37796447, -0.37796447,\n",
       "        -0.37796447,  0.        , -0.37796447],\n",
       "       [ 1.        , -0.37796447, -0.77459667, -0.37796447,  0.        ,\n",
       "        -0.37796447, -0.37796447, -0.37796447, -0.37796447, -0.37796447,\n",
       "         2.64575131,  0.        , -0.37796447, -0.37796447, -0.37796447,\n",
       "         0.        , -0.37796447, -0.37796447, -0.37796447, -0.37796447,\n",
       "         2.64575131,  0.        , -0.37796447],\n",
       "       [-1.        , -0.37796447,  1.29099445, -0.37796447,  0.        ,\n",
       "        -0.37796447, -0.37796447,  2.64575131, -0.37796447, -0.37796447,\n",
       "        -0.37796447,  0.        , -0.37796447, -0.37796447, -0.37796447,\n",
       "         0.        , -0.37796447,  2.64575131, -0.37796447, -0.37796447,\n",
       "        -0.37796447,  0.        , -0.37796447],\n",
       "       [ 1.        , -0.37796447, -0.77459667, -0.37796447,  0.        ,\n",
       "        -0.37796447, -0.37796447, -0.37796447, -0.37796447,  2.64575131,\n",
       "        -0.37796447,  0.        , -0.37796447, -0.37796447, -0.37796447,\n",
       "         0.        , -0.37796447, -0.37796447, -0.37796447,  2.64575131,\n",
       "        -0.37796447,  0.        , -0.37796447],\n",
       "       [ 1.        , -0.37796447, -0.77459667, -0.37796447,  0.        ,\n",
       "         2.64575131, -0.37796447, -0.37796447, -0.37796447, -0.37796447,\n",
       "        -0.37796447,  0.        , -0.37796447, -0.37796447, -0.37796447,\n",
       "         0.        ,  2.64575131, -0.37796447, -0.37796447, -0.37796447,\n",
       "        -0.37796447,  0.        , -0.37796447]])"
      ]
     },
     "execution_count": 76,
     "metadata": {},
     "output_type": "execute_result"
    }
   ],
   "source": [
    "from sklearn.preprocessing import StandardScaler\n",
    "st_x = StandardScaler()\n",
    "x_train = st_x.fit_transform(x_train)\n",
    "x_train"
   ]
  },
  {
   "cell_type": "code",
   "execution_count": 77,
   "id": "415adf6a",
   "metadata": {},
   "outputs": [
    {
     "data": {
      "text/plain": [
       "array([[-1.        ,  2.64575131, -0.77459667, -0.37796447,  1.        ,\n",
       "        -0.37796447, -0.37796447, -0.37796447, -0.37796447, -0.37796447,\n",
       "        -0.37796447,  0.        , -0.37796447, -0.37796447, -0.37796447,\n",
       "         1.        , -0.37796447, -0.37796447, -0.37796447, -0.37796447,\n",
       "        -0.37796447,  0.        , -0.37796447],\n",
       "       [-1.        ,  2.64575131, -0.77459667, -0.37796447,  0.        ,\n",
       "        -0.37796447, -0.37796447, -0.37796447, -0.37796447, -0.37796447,\n",
       "        -0.37796447,  1.        , -0.37796447, -0.37796447, -0.37796447,\n",
       "         0.        , -0.37796447, -0.37796447, -0.37796447, -0.37796447,\n",
       "        -0.37796447,  1.        , -0.37796447]])"
      ]
     },
     "execution_count": 77,
     "metadata": {},
     "output_type": "execute_result"
    }
   ],
   "source": [
    "x_test = st_x.transform(x_test)\n",
    "x_test"
   ]
  },
  {
   "cell_type": "code",
   "execution_count": 85,
   "id": "58787655",
   "metadata": {},
   "outputs": [
    {
     "data": {
      "text/plain": [
       "<function matplotlib.pyplot.show(close=None, block=None)>"
      ]
     },
     "execution_count": 85,
     "metadata": {},
     "output_type": "execute_result"
    },
    {
     "data": {
      "image/png": "[encoded data removed]",
      "text/plain": [
       "<Figure size 432x288 with 1 Axes>"
      ]
     },
     "metadata": {
      "needs_background": "light"
     },
     "output_type": "display_data"
    }
   ],
   "source": [
    "age = x_train[:,1].tolist()\n",
    "salary = x_train[:,2].tolist()\n",
    "mpt.bar(age,salary)\n",
    "mpt.show"
   ]
  }
 ],
 "metadata": {
  "kernelspec": {
   "display_name": "Python 3 (ipykernel)",
   "language": "python",
   "name": "python3"
  },
  "language_info": {
   "codemirror_mode": {
    "name": "ipython",
    "version": 3
   },
   "file_extension": ".py",
   "mimetype": "text/x-python",
   "name": "python",
   "nbconvert_exporter": "python",
   "pygments_lexer": "ipython3",
   "version": "3.9.12"
  }
 },
 "nbformat": 4,
 "nbformat_minor": 5
}
