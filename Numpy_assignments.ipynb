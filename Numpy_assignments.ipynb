{
 "cells": [
  {
   "cell_type": "markdown",
   "id": "00fb386a",
   "metadata": {},
   "source": [
    "# 1. write a numpy program to get the numpy version and show numpy build in configuration"
   ]
  },
  {
   "cell_type": "code",
   "execution_count": 2,
   "id": "555b2784",
   "metadata": {},
   "outputs": [
    {
     "data": {
      "text/plain": [
       "'1.21.5'"
      ]
     },
     "execution_count": 2,
     "metadata": {},
     "output_type": "execute_result"
    }
   ],
   "source": [
    "import numpy as np\n",
    "np.__version__"
   ]
  },
  {
   "cell_type": "code",
   "execution_count": 4,
   "id": "3ec55d1a",
   "metadata": {},
   "outputs": [
    {
     "name": "stdout",
     "output_type": "stream",
     "text": [
      "blas_mkl_info:\n",
      "    libraries = ['mkl_rt']\n",
      "    library_dirs = ['C:/Users/DELL/anaconda3\\\\Library\\\\lib']\n",
      "    define_macros = [('SCIPY_MKL_H', None), ('HAVE_CBLAS', None)]\n",
      "    include_dirs = ['C:/Users/DELL/anaconda3\\\\Library\\\\include']\n",
      "blas_opt_info:\n",
      "    libraries = ['mkl_rt']\n",
      "    library_dirs = ['C:/Users/DELL/anaconda3\\\\Library\\\\lib']\n",
      "    define_macros = [('SCIPY_MKL_H', None), ('HAVE_CBLAS', None)]\n",
      "    include_dirs = ['C:/Users/DELL/anaconda3\\\\Library\\\\include']\n",
      "lapack_mkl_info:\n",
      "    libraries = ['mkl_rt']\n",
      "    library_dirs = ['C:/Users/DELL/anaconda3\\\\Library\\\\lib']\n",
      "    define_macros = [('SCIPY_MKL_H', None), ('HAVE_CBLAS', None)]\n",
      "    include_dirs = ['C:/Users/DELL/anaconda3\\\\Library\\\\include']\n",
      "lapack_opt_info:\n",
      "    libraries = ['mkl_rt']\n",
      "    library_dirs = ['C:/Users/DELL/anaconda3\\\\Library\\\\lib']\n",
      "    define_macros = [('SCIPY_MKL_H', None), ('HAVE_CBLAS', None)]\n",
      "    include_dirs = ['C:/Users/DELL/anaconda3\\\\Library\\\\include']\n",
      "Supported SIMD extensions in this NumPy install:\n",
      "    baseline = SSE,SSE2,SSE3\n",
      "    found = SSSE3,SSE41,POPCNT,SSE42,AVX,F16C,FMA3,AVX2\n",
      "    not found = AVX512F,AVX512CD,AVX512_SKX,AVX512_CLX,AVX512_CNL\n"
     ]
    }
   ],
   "source": [
    "np.show_config()"
   ]
  },
  {
   "cell_type": "markdown",
   "id": "34b63f01",
   "metadata": {},
   "source": [
    "# 2. Write a numpy program to get help on the add function"
   ]
  },
  {
   "cell_type": "code",
   "execution_count": 6,
   "id": "c405be17",
   "metadata": {},
   "outputs": [
    {
     "name": "stdout",
     "output_type": "stream",
     "text": [
      "add(x1, x2, /, out=None, *, where=True, casting='same_kind', order='K', dtype=None, subok=True[, signature, extobj])\n",
      "\n",
      "Add arguments element-wise.\n",
      "\n",
      "Parameters\n",
      "----------\n",
      "x1, x2 : array_like\n",
      "    The arrays to be added.\n",
      "    If ``x1.shape != x2.shape``, they must be broadcastable to a common\n",
      "    shape (which becomes the shape of the output).\n",
      "out : ndarray, None, or tuple of ndarray and None, optional\n",
      "    A location into which the result is stored. If provided, it must have\n",
      "    a shape that the inputs broadcast to. If not provided or None,\n",
      "    a freshly-allocated array is returned. A tuple (possible only as a\n",
      "    keyword argument) must have length equal to the number of outputs.\n",
      "where : array_like, optional\n",
      "    This condition is broadcast over the input. At locations where the\n",
      "    condition is True, the `out` array will be set to the ufunc result.\n",
      "    Elsewhere, the `out` array will retain its original value.\n",
      "    Note that if an uninitialized `out` array is created via the default\n",
      "    ``out=None``, locations within it where the condition is False will\n",
      "    remain uninitialized.\n",
      "**kwargs\n",
      "    For other keyword-only arguments, see the\n",
      "    :ref:`ufunc docs <ufuncs.kwargs>`.\n",
      "\n",
      "Returns\n",
      "-------\n",
      "add : ndarray or scalar\n",
      "    The sum of `x1` and `x2`, element-wise.\n",
      "    This is a scalar if both `x1` and `x2` are scalars.\n",
      "\n",
      "Notes\n",
      "-----\n",
      "Equivalent to `x1` + `x2` in terms of array broadcasting.\n",
      "\n",
      "Examples\n",
      "--------\n",
      ">>> np.add(1.0, 4.0)\n",
      "5.0\n",
      ">>> x1 = np.arange(9.0).reshape((3, 3))\n",
      ">>> x2 = np.arange(3.0)\n",
      ">>> np.add(x1, x2)\n",
      "array([[  0.,   2.,   4.],\n",
      "       [  3.,   5.,   7.],\n",
      "       [  6.,   8.,  10.]])\n",
      "\n",
      "The ``+`` operator can be used as a shorthand for ``np.add`` on ndarrays.\n",
      "\n",
      ">>> x1 = np.arange(9.0).reshape((3, 3))\n",
      ">>> x2 = np.arange(3.0)\n",
      ">>> x1 + x2\n",
      "array([[ 0.,  2.,  4.],\n",
      "       [ 3.,  5.,  7.],\n",
      "       [ 6.,  8., 10.]])\n"
     ]
    }
   ],
   "source": [
    "import numpy as np\n",
    "np.info(np.add)"
   ]
  },
  {
   "cell_type": "markdown",
   "id": "7d8aaa37",
   "metadata": {},
   "source": [
    "# 3. Write a numpy program to test whether none of the elements of a given array is zero"
   ]
  },
  {
   "cell_type": "code",
   "execution_count": 8,
   "id": "96698f27",
   "metadata": {},
   "outputs": [
    {
     "data": {
      "text/plain": [
       "True"
      ]
     },
     "execution_count": 8,
     "metadata": {},
     "output_type": "execute_result"
    }
   ],
   "source": [
    "import numpy as np\n",
    "x = np.array([1,2,3,4])\n",
    "np.all(x)"
   ]
  },
  {
   "cell_type": "code",
   "execution_count": 10,
   "id": "19d6c723",
   "metadata": {},
   "outputs": [
    {
     "data": {
      "text/plain": [
       "False"
      ]
     },
     "execution_count": 10,
     "metadata": {},
     "output_type": "execute_result"
    }
   ],
   "source": [
    "y = np.array([0,1,2,3,4])\n",
    "np.all(y)"
   ]
  },
  {
   "cell_type": "markdown",
   "id": "5685abbc",
   "metadata": {},
   "source": [
    "# 4. Write a numpy program to test whether any of the elements of a given array is non - zero"
   ]
  },
  {
   "cell_type": "code",
   "execution_count": 12,
   "id": "bff68bf2",
   "metadata": {},
   "outputs": [
    {
     "data": {
      "text/plain": [
       "True"
      ]
     },
     "execution_count": 12,
     "metadata": {},
     "output_type": "execute_result"
    }
   ],
   "source": [
    "import numpy as np\n",
    "x = np.array([1,0,0,0,0,0])\n",
    "np.any(x)"
   ]
  },
  {
   "cell_type": "code",
   "execution_count": 15,
   "id": "14c8d370",
   "metadata": {},
   "outputs": [
    {
     "data": {
      "text/plain": [
       "False"
      ]
     },
     "execution_count": 15,
     "metadata": {},
     "output_type": "execute_result"
    }
   ],
   "source": [
    "y = np.array([0,0,0,0,0])\n",
    "np.any(y)"
   ]
  },
  {
   "cell_type": "markdown",
   "id": "7816b3f2",
   "metadata": {},
   "source": [
    "# 5. Write a numpy program to test a given array element - wise for finiteness (not infinite or not a number)"
   ]
  },
  {
   "cell_type": "code",
   "execution_count": 17,
   "id": "99410691",
   "metadata": {},
   "outputs": [
    {
     "data": {
      "text/plain": [
       "array([ True,  True, False, False])"
      ]
     },
     "execution_count": 17,
     "metadata": {},
     "output_type": "execute_result"
    }
   ],
   "source": [
    "import numpy as np\n",
    "x = np.array([1,0,np.nan,np.inf])\n",
    "np.isfinite(x)"
   ]
  },
  {
   "cell_type": "markdown",
   "id": "1b975f51",
   "metadata": {},
   "source": [
    "# 6. Write a numpy program to test element - wise for positive or negative infinity"
   ]
  },
  {
   "cell_type": "code",
   "execution_count": 19,
   "id": "a45f0a8a",
   "metadata": {},
   "outputs": [
    {
     "data": {
      "text/plain": [
       "array([False, False, False,  True])"
      ]
     },
     "execution_count": 19,
     "metadata": {},
     "output_type": "execute_result"
    }
   ],
   "source": [
    "import numpy as np\n",
    "x = np.array([1,0,np.nan,np.inf])\n",
    "np.isinf(x)"
   ]
  },
  {
   "cell_type": "markdown",
   "id": "2f26a4e2",
   "metadata": {},
   "source": [
    "# 7. Write a numpy program to test element - wise for complex number, real number of a given array. Also test whether a number is scalar or not"
   ]
  },
  {
   "cell_type": "code",
   "execution_count": 21,
   "id": "b8849e36",
   "metadata": {},
   "outputs": [
    {
     "data": {
      "text/plain": [
       "array([ True, False, False, False, False,  True])"
      ]
     },
     "execution_count": 21,
     "metadata": {},
     "output_type": "execute_result"
    }
   ],
   "source": [
    "import numpy as np\n",
    "x = np.array([1+1j, 1+0j, 4.5, 3,2,2j])\n",
    "np.iscomplex(x)"
   ]
  },
  {
   "cell_type": "code",
   "execution_count": 23,
   "id": "400a3456",
   "metadata": {},
   "outputs": [
    {
     "data": {
      "text/plain": [
       "array([False,  True,  True,  True,  True, False])"
      ]
     },
     "execution_count": 23,
     "metadata": {},
     "output_type": "execute_result"
    }
   ],
   "source": [
    "np.isreal(x)"
   ]
  },
  {
   "cell_type": "code",
   "execution_count": 25,
   "id": "21cf9d94",
   "metadata": {},
   "outputs": [
    {
     "data": {
      "text/plain": [
       "True"
      ]
     },
     "execution_count": 25,
     "metadata": {},
     "output_type": "execute_result"
    }
   ],
   "source": [
    "np.isscalar(3.1)"
   ]
  },
  {
   "cell_type": "code",
   "execution_count": 27,
   "id": "17283933",
   "metadata": {},
   "outputs": [
    {
     "data": {
      "text/plain": [
       "False"
      ]
     },
     "execution_count": 27,
     "metadata": {},
     "output_type": "execute_result"
    }
   ],
   "source": [
    "np.isscalar([3.2])"
   ]
  },
  {
   "cell_type": "markdown",
   "id": "661c0d32",
   "metadata": {},
   "source": [
    "# 8. Write a numpy program to test element - wise for nan of a given array"
   ]
  },
  {
   "cell_type": "code",
   "execution_count": 29,
   "id": "dd7e3d9f",
   "metadata": {},
   "outputs": [
    {
     "data": {
      "text/plain": [
       "array([False, False,  True, False])"
      ]
     },
     "execution_count": 29,
     "metadata": {},
     "output_type": "execute_result"
    }
   ],
   "source": [
    "import numpy as np\n",
    "x = np.array([1,0,np.nan,np.inf])\n",
    "np.isnan(x)"
   ]
  },
  {
   "cell_type": "markdown",
   "id": "4199e9fb",
   "metadata": {},
   "source": [
    "# 9. Write a numpy program to test whether two arrays are element - wise equal with in a tolerance"
   ]
  },
  {
   "cell_type": "code",
   "execution_count": 31,
   "id": "44a1df65",
   "metadata": {},
   "outputs": [
    {
     "data": {
      "text/plain": [
       "False"
      ]
     },
     "execution_count": 31,
     "metadata": {},
     "output_type": "execute_result"
    }
   ],
   "source": [
    "import numpy as np\n",
    "np.allclose([1,2],[2,3])\n"
   ]
  },
  {
   "cell_type": "code",
   "execution_count": 33,
   "id": "87303499",
   "metadata": {},
   "outputs": [
    {
     "data": {
      "text/plain": [
       "True"
      ]
     },
     "execution_count": 33,
     "metadata": {},
     "output_type": "execute_result"
    }
   ],
   "source": [
    "np.allclose([1,2],[1,2])"
   ]
  },
  {
   "cell_type": "markdown",
   "id": "22581e87",
   "metadata": {},
   "source": [
    "# 10. Write a numpy program to create an element - wise comparison (greater, greater equal, less, less equal)"
   ]
  },
  {
   "cell_type": "code",
   "execution_count": 35,
   "id": "ea7db2b5",
   "metadata": {},
   "outputs": [
    {
     "data": {
      "text/plain": [
       "array([ True,  True])"
      ]
     },
     "execution_count": 35,
     "metadata": {},
     "output_type": "execute_result"
    }
   ],
   "source": [
    "import numpy as np\n",
    "x = np.array([3,5])\n",
    "y = np.array([2,3])\n",
    "np.greater(x,y)"
   ]
  },
  {
   "cell_type": "code",
   "execution_count": 37,
   "id": "34fac434",
   "metadata": {},
   "outputs": [
    {
     "data": {
      "text/plain": [
       "array([ True,  True])"
      ]
     },
     "execution_count": 37,
     "metadata": {},
     "output_type": "execute_result"
    }
   ],
   "source": [
    "np.greater_equal(x,y)"
   ]
  },
  {
   "cell_type": "code",
   "execution_count": 39,
   "id": "7d5c00fc",
   "metadata": {},
   "outputs": [
    {
     "data": {
      "text/plain": [
       "array([False, False])"
      ]
     },
     "execution_count": 39,
     "metadata": {},
     "output_type": "execute_result"
    }
   ],
   "source": [
    "np.less(x,y)"
   ]
  },
  {
   "cell_type": "code",
   "execution_count": 41,
   "id": "ad3576ad",
   "metadata": {},
   "outputs": [
    {
     "data": {
      "text/plain": [
       "array([False, False])"
      ]
     },
     "execution_count": 41,
     "metadata": {},
     "output_type": "execute_result"
    }
   ],
   "source": [
    "np.less_equal(x,y)"
   ]
  },
  {
   "cell_type": "markdown",
   "id": "b048b640",
   "metadata": {},
   "source": [
    "# 11. Write a numpy program to create an element - wise comparison( equal, equal within tolerance) of two given arrays"
   ]
  },
  {
   "cell_type": "code",
   "execution_count": 43,
   "id": "8ff0c4db",
   "metadata": {},
   "outputs": [
    {
     "data": {
      "text/plain": [
       "array([ True,  True,  True,  True,  True,  True,  True,  True,  True,\n",
       "        True])"
      ]
     },
     "execution_count": 43,
     "metadata": {},
     "output_type": "execute_result"
    }
   ],
   "source": [
    "import numpy as np\n",
    "x = np.array([72,79,85,90,150,-135,120,-10,60,100])\n",
    "y = np.array([72,79,85,90,150,-135,120,-10,60,100.00000])\n",
    "np.equal(x,y)"
   ]
  },
  {
   "cell_type": "markdown",
   "id": "92f0efa6",
   "metadata": {},
   "source": []
  },
  {
   "cell_type": "code",
   "execution_count": 46,
   "id": "40f44257",
   "metadata": {},
   "outputs": [
    {
     "data": {
      "text/plain": [
       "True"
      ]
     },
     "execution_count": 46,
     "metadata": {},
     "output_type": "execute_result"
    }
   ],
   "source": [
    "np.allclose(x,y)"
   ]
  },
  {
   "cell_type": "markdown",
   "id": "c051a98c",
   "metadata": {},
   "source": [
    "# 12. Write a numpy program to create an array with the values 1,7,13,105 and determine the size of the memory occupy by the array"
   ]
  },
  {
   "cell_type": "code",
   "execution_count": 48,
   "id": "0db5f90f",
   "metadata": {},
   "outputs": [
    {
     "name": "stdout",
     "output_type": "stream",
     "text": [
      "the size of the array :  4\n"
     ]
    }
   ],
   "source": [
    "import numpy as np\n",
    "x = np.array([1,7,13,105])\n",
    "print('the size of the array : ', x.size)"
   ]
  },
  {
   "cell_type": "code",
   "execution_count": 50,
   "id": "e378edf9",
   "metadata": {},
   "outputs": [
    {
     "name": "stdout",
     "output_type": "stream",
     "text": [
      "memory size of one array element in bytes :  4\n"
     ]
    }
   ],
   "source": [
    "print('memory size of one array element in bytes : ', x.itemsize)"
   ]
  },
  {
   "cell_type": "code",
   "execution_count": 52,
   "id": "92d42478",
   "metadata": {},
   "outputs": [
    {
     "name": "stdout",
     "output_type": "stream",
     "text": [
      "memory size of numpy array in bytes :  16\n"
     ]
    }
   ],
   "source": [
    "print('memory size of numpy array in bytes : ', x.nbytes)"
   ]
  },
  {
   "cell_type": "markdown",
   "id": "0ee85395",
   "metadata": {},
   "source": [
    "# 13. Write a numpy program to create a array of 10 zeros, 10 ones, 10 fives"
   ]
  },
  {
   "cell_type": "code",
   "execution_count": 56,
   "id": "b518b6e7",
   "metadata": {},
   "outputs": [
    {
     "data": {
      "text/plain": [
       "array([0., 0., 0., 0., 0., 0., 0., 0., 0., 0.])"
      ]
     },
     "execution_count": 56,
     "metadata": {},
     "output_type": "execute_result"
    }
   ],
   "source": [
    "import numpy as np\n",
    "np.zeros(10)"
   ]
  },
  {
   "cell_type": "code",
   "execution_count": 58,
   "id": "4706880a",
   "metadata": {},
   "outputs": [
    {
     "data": {
      "text/plain": [
       "array([1., 1., 1., 1., 1., 1., 1., 1., 1., 1.])"
      ]
     },
     "execution_count": 58,
     "metadata": {},
     "output_type": "execute_result"
    }
   ],
   "source": [
    "np.ones(10)"
   ]
  },
  {
   "cell_type": "code",
   "execution_count": 60,
   "id": "a70a8a31",
   "metadata": {},
   "outputs": [
    {
     "data": {
      "text/plain": [
       "array([5., 5., 5., 5., 5., 5., 5., 5., 5., 5.])"
      ]
     },
     "execution_count": 60,
     "metadata": {},
     "output_type": "execute_result"
    }
   ],
   "source": [
    "np.ones(10)*5"
   ]
  },
  {
   "cell_type": "markdown",
   "id": "68a6abda",
   "metadata": {},
   "source": [
    "# 14. Write a numpy program to create a array of the integers from 30 to 70"
   ]
  },
  {
   "cell_type": "code",
   "execution_count": 62,
   "id": "9c08b87b",
   "metadata": {},
   "outputs": [
    {
     "data": {
      "text/plain": [
       "array([30, 31, 32, 33, 34, 35, 36, 37, 38, 39, 40, 41, 42, 43, 44, 45, 46,\n",
       "       47, 48, 49, 50, 51, 52, 53, 54, 55, 56, 57, 58, 59, 60, 61, 62, 63,\n",
       "       64, 65, 66, 67, 68, 69, 70])"
      ]
     },
     "execution_count": 62,
     "metadata": {},
     "output_type": "execute_result"
    }
   ],
   "source": [
    "import numpy as np\n",
    "np.arange(30,71)"
   ]
  },
  {
   "cell_type": "markdown",
   "id": "15c2c1aa",
   "metadata": {},
   "source": [
    "# 15. Write a numpy program to create an array of all the even integers from 30 to 70"
   ]
  },
  {
   "cell_type": "code",
   "execution_count": 64,
   "id": "be3e792f",
   "metadata": {},
   "outputs": [
    {
     "data": {
      "text/plain": [
       "array([30, 32, 34, 36, 38, 40, 42, 44, 46, 48, 50, 52, 54, 56, 58, 60, 62,\n",
       "       64, 66, 68, 70])"
      ]
     },
     "execution_count": 64,
     "metadata": {},
     "output_type": "execute_result"
    }
   ],
   "source": [
    "import numpy as np\n",
    "np.arange(30,71,2)"
   ]
  },
  {
   "cell_type": "markdown",
   "id": "29056397",
   "metadata": {},
   "source": [
    "# 16. Write a numpy program to create a 3 * 3 identity matrix"
   ]
  },
  {
   "cell_type": "code",
   "execution_count": 66,
   "id": "41347463",
   "metadata": {},
   "outputs": [
    {
     "data": {
      "text/plain": [
       "array([[1., 0., 0.],\n",
       "       [0., 1., 0.],\n",
       "       [0., 0., 1.]])"
      ]
     },
     "execution_count": 66,
     "metadata": {},
     "output_type": "execute_result"
    }
   ],
   "source": [
    "import numpy as np\n",
    "np.identity(3)"
   ]
  },
  {
   "cell_type": "markdown",
   "id": "a2d68d5a",
   "metadata": {},
   "source": [
    "# 17. Write a numpy program to generate a random number between 0 and 1"
   ]
  },
  {
   "cell_type": "code",
   "execution_count": 68,
   "id": "70a22277",
   "metadata": {},
   "outputs": [
    {
     "data": {
      "text/plain": [
       "array([-1.74297814])"
      ]
     },
     "execution_count": 68,
     "metadata": {},
     "output_type": "execute_result"
    }
   ],
   "source": [
    "np.random.normal(0,1,1)\n"
   ]
  },
  {
   "cell_type": "markdown",
   "id": "55567a5c",
   "metadata": {},
   "source": [
    "# 18. write a numpy program to generate an array of 15 random numbers from standard normal distribution"
   ]
  },
  {
   "cell_type": "code",
   "execution_count": 70,
   "id": "d4b00e12",
   "metadata": {},
   "outputs": [
    {
     "data": {
      "text/plain": [
       "array([-0.55548786,  1.87600007,  0.93445133,  1.05450064,  0.8115531 ,\n",
       "        0.95547218,  0.66117194,  0.36181327,  0.55245214,  0.15520637,\n",
       "        0.01995873,  0.10598003,  0.00998179,  0.08632654, -1.06850002])"
      ]
     },
     "execution_count": 70,
     "metadata": {},
     "output_type": "execute_result"
    }
   ],
   "source": [
    "np.random.normal(0,1,15)"
   ]
  },
  {
   "cell_type": "markdown",
   "id": "9037487d",
   "metadata": {},
   "source": [
    "# 19. Write a numpy program to create a vector with values ranging from 15 to 55 and print all values except the first and the last"
   ]
  },
  {
   "cell_type": "code",
   "execution_count": 73,
   "id": "210bd0f0",
   "metadata": {},
   "outputs": [
    {
     "data": {
      "text/plain": [
       "array([15, 16, 17, 18, 19, 20, 21, 22, 23, 24, 25, 26, 27, 28, 29, 30, 31,\n",
       "       32, 33, 34, 35, 36, 37, 38, 39, 40, 41, 42, 43, 44, 45, 46, 47, 48,\n",
       "       49, 50, 51, 52, 53, 54, 55])"
      ]
     },
     "execution_count": 73,
     "metadata": {},
     "output_type": "execute_result"
    }
   ],
   "source": [
    "import numpy as np\n",
    "v = np.arange(15,56)\n",
    "v"
   ]
  },
  {
   "cell_type": "code",
   "execution_count": 75,
   "id": "cd0eeb96",
   "metadata": {},
   "outputs": [
    {
     "data": {
      "text/plain": [
       "array([16, 17, 18, 19, 20, 21, 22, 23, 24, 25, 26, 27, 28, 29, 30, 31, 32,\n",
       "       33, 34, 35, 36, 37, 38, 39, 40, 41, 42, 43, 44, 45, 46, 47, 48, 49,\n",
       "       50, 51, 52, 53, 54])"
      ]
     },
     "execution_count": 75,
     "metadata": {},
     "output_type": "execute_result"
    }
   ],
   "source": [
    "v[1:-1]"
   ]
  },
  {
   "cell_type": "markdown",
   "id": "0b49cda0",
   "metadata": {},
   "source": [
    "# 20. Write a numpy program to create a 3 * 4 array using and iterate over it"
   ]
  },
  {
   "cell_type": "code",
   "execution_count": 77,
   "id": "0a2ef2b5",
   "metadata": {},
   "outputs": [
    {
     "data": {
      "text/plain": [
       "array([[10, 11, 12, 13],\n",
       "       [14, 15, 16, 17],\n",
       "       [18, 19, 20, 21]])"
      ]
     },
     "execution_count": 77,
     "metadata": {},
     "output_type": "execute_result"
    }
   ],
   "source": [
    "x = np.arange(10,22).reshape(3,4)\n",
    "x"
   ]
  },
  {
   "cell_type": "code",
   "execution_count": 80,
   "id": "6791a184",
   "metadata": {},
   "outputs": [
    {
     "name": "stdout",
     "output_type": "stream",
     "text": [
      "10\n",
      "11\n",
      "12\n",
      "13\n",
      "14\n",
      "15\n",
      "16\n",
      "17\n",
      "18\n",
      "19\n",
      "20\n",
      "21\n"
     ]
    }
   ],
   "source": [
    "for i in np.nditer(x):\n",
    "    print(i)"
   ]
  },
  {
   "cell_type": "markdown",
   "id": "86e5a69d",
   "metadata": {},
   "source": [
    "# 21. Write a numpy program to create a vestor of length 10 with values evenly distributed between 5 and 50"
   ]
  },
  {
   "cell_type": "code",
   "execution_count": 82,
   "id": "6aafbd93",
   "metadata": {},
   "outputs": [
    {
     "data": {
      "text/plain": [
       "array([ 5.  , 16.25, 27.5 , 38.75, 50.  ])"
      ]
     },
     "execution_count": 82,
     "metadata": {},
     "output_type": "execute_result"
    }
   ],
   "source": [
    "import numpy as np\n",
    "v = np.linspace(5,50,5)\n",
    "v"
   ]
  },
  {
   "cell_type": "markdown",
   "id": "b3ac406b",
   "metadata": {},
   "source": [
    "# 22. Write a numpy program to create a vector with values from 0 to 20 and change the sign of numbers in the range from 9 to 15"
   ]
  },
  {
   "cell_type": "code",
   "execution_count": 84,
   "id": "a04b0bb6",
   "metadata": {},
   "outputs": [
    {
     "data": {
      "text/plain": [
       "array([ 0,  1,  2,  3,  4,  5,  6,  7,  8,  9, 10, 11, 12, 13, 14, 15, 16,\n",
       "       17, 18, 19, 20])"
      ]
     },
     "execution_count": 84,
     "metadata": {},
     "output_type": "execute_result"
    }
   ],
   "source": [
    "import numpy as np\n",
    "x = np.arange(21)\n",
    "x"
   ]
  },
  {
   "cell_type": "code",
   "execution_count": 86,
   "id": "c1d6fcd2",
   "metadata": {},
   "outputs": [
    {
     "data": {
      "text/plain": [
       "array([-10, -11, -12, -13, -14])"
      ]
     },
     "execution_count": 86,
     "metadata": {},
     "output_type": "execute_result"
    }
   ],
   "source": [
    "x[(x > 9) & ( x < 15)] * -1"
   ]
  },
  {
   "cell_type": "markdown",
   "id": "5061d546",
   "metadata": {},
   "source": [
    "# 23. Write a numpy program to create a vector of length 5 filled with arbitrary integers from 1 to 10"
   ]
  },
  {
   "cell_type": "code",
   "execution_count": 89,
   "id": "3a90ef90",
   "metadata": {},
   "outputs": [
    {
     "data": {
      "text/plain": [
       "array([ 2,  8,  7, 10,  5])"
      ]
     },
     "execution_count": 89,
     "metadata": {},
     "output_type": "execute_result"
    }
   ],
   "source": [
    "np.random.randint(0,11,5)"
   ]
  },
  {
   "cell_type": "markdown",
   "id": "092ad2f8",
   "metadata": {},
   "source": [
    "# 24. Write a numpy program to multiply the values of two given vectors"
   ]
  },
  {
   "cell_type": "code",
   "execution_count": 91,
   "id": "521d33ee",
   "metadata": {},
   "outputs": [
    {
     "data": {
      "text/plain": [
       "array([ 42,  32,  88, 104,  48])"
      ]
     },
     "execution_count": 91,
     "metadata": {},
     "output_type": "execute_result"
    }
   ],
   "source": [
    "import numpy as np\n",
    "x = np.random.randint(1,11,5)\n",
    "y = np.random.randint(1,15,5)\n",
    "x*y"
   ]
  },
  {
   "cell_type": "markdown",
   "id": "a9f8c02a",
   "metadata": {},
   "source": [
    "# 25. Write a numpy program to create a 3 * 4 matrix filled with values from 10 to 21"
   ]
  },
  {
   "cell_type": "code",
   "execution_count": 95,
   "id": "4d32ff78",
   "metadata": {},
   "outputs": [
    {
     "data": {
      "text/plain": [
       "array([[10, 11, 12, 13],\n",
       "       [14, 15, 16, 17],\n",
       "       [18, 19, 20, 21]])"
      ]
     },
     "execution_count": 95,
     "metadata": {},
     "output_type": "execute_result"
    }
   ],
   "source": [
    "import numpy as np\n",
    "x = np.arange(10,22).reshape(3,4)\n",
    "x"
   ]
  },
  {
   "cell_type": "markdown",
   "id": "9e1e5971",
   "metadata": {},
   "source": [
    "# 26. Write a numpy program to find the number of rows and columns of a given matrix"
   ]
  },
  {
   "cell_type": "code",
   "execution_count": 97,
   "id": "67e33a4f",
   "metadata": {},
   "outputs": [
    {
     "data": {
      "text/plain": [
       "(3, 4)"
      ]
     },
     "execution_count": 97,
     "metadata": {},
     "output_type": "execute_result"
    }
   ],
   "source": [
    "import numpy as np\n",
    "x = np.arange(10,22).reshape(3,4)\n",
    "x.shape"
   ]
  },
  {
   "cell_type": "markdown",
   "id": "44caff17",
   "metadata": {},
   "source": [
    "# 27. Write a numpy program to create a 3 * 3 identity matrix ie; diagonal elements are 1 and rest are 0"
   ]
  },
  {
   "cell_type": "code",
   "execution_count": 99,
   "id": "030a62db",
   "metadata": {},
   "outputs": [
    {
     "data": {
      "text/plain": [
       "array([[1., 0., 0.],\n",
       "       [0., 1., 0.],\n",
       "       [0., 0., 1.]])"
      ]
     },
     "execution_count": 99,
     "metadata": {},
     "output_type": "execute_result"
    }
   ],
   "source": [
    "import numpy as np\n",
    "np.eye(3)"
   ]
  },
  {
   "cell_type": "markdown",
   "id": "476d632b",
   "metadata": {},
   "source": [
    "# 28. Write a numpy program to create a 10 * 10 matrix, in which the elements in the borders will be equal to 1 and inside 0"
   ]
  },
  {
   "cell_type": "code",
   "execution_count": 102,
   "id": "293d76c7",
   "metadata": {},
   "outputs": [
    {
     "data": {
      "text/plain": [
       "array([[1., 1., 1., 1., 1., 1., 1., 1., 1., 1.],\n",
       "       [1., 1., 1., 1., 1., 1., 1., 1., 1., 1.],\n",
       "       [1., 1., 1., 1., 1., 1., 1., 1., 1., 1.],\n",
       "       [1., 1., 1., 1., 1., 1., 1., 1., 1., 1.],\n",
       "       [1., 1., 1., 1., 1., 1., 1., 1., 1., 1.],\n",
       "       [1., 1., 1., 1., 1., 1., 1., 1., 1., 1.],\n",
       "       [1., 1., 1., 1., 1., 1., 1., 1., 1., 1.],\n",
       "       [1., 1., 1., 1., 1., 1., 1., 1., 1., 1.],\n",
       "       [1., 1., 1., 1., 1., 1., 1., 1., 1., 1.],\n",
       "       [1., 1., 1., 1., 1., 1., 1., 1., 1., 1.]])"
      ]
     },
     "execution_count": 102,
     "metadata": {},
     "output_type": "execute_result"
    }
   ],
   "source": [
    "import numpy as np\n",
    "x = np.ones((10,10))\n",
    "x"
   ]
  },
  {
   "cell_type": "code",
   "execution_count": 104,
   "id": "b9219b8e",
   "metadata": {},
   "outputs": [
    {
     "data": {
      "text/plain": [
       "array([[1., 1., 1., 1., 1., 1., 1., 1., 1., 1.],\n",
       "       [1., 0., 0., 0., 0., 0., 0., 0., 0., 1.],\n",
       "       [1., 0., 0., 0., 0., 0., 0., 0., 0., 1.],\n",
       "       [1., 0., 0., 0., 0., 0., 0., 0., 0., 1.],\n",
       "       [1., 0., 0., 0., 0., 0., 0., 0., 0., 1.],\n",
       "       [1., 0., 0., 0., 0., 0., 0., 0., 0., 1.],\n",
       "       [1., 0., 0., 0., 0., 0., 0., 0., 0., 1.],\n",
       "       [1., 0., 0., 0., 0., 0., 0., 0., 0., 1.],\n",
       "       [1., 0., 0., 0., 0., 0., 0., 0., 0., 1.],\n",
       "       [1., 1., 1., 1., 1., 1., 1., 1., 1., 1.]])"
      ]
     },
     "execution_count": 104,
     "metadata": {},
     "output_type": "execute_result"
    }
   ],
   "source": [
    "x[1:9,1:9] = 0\n",
    "x"
   ]
  },
  {
   "cell_type": "markdown",
   "id": "1fe69ce0",
   "metadata": {},
   "source": [
    "# 29. Write a numpy program to create a 5 * 5 zero matrix in which the elements in the main diagonal equal to 1,2,3,4,5"
   ]
  },
  {
   "cell_type": "code",
   "execution_count": 106,
   "id": "f143bcdc",
   "metadata": {},
   "outputs": [
    {
     "data": {
      "text/plain": [
       "array([[1, 0, 0, 0, 0],\n",
       "       [0, 2, 0, 0, 0],\n",
       "       [0, 0, 3, 0, 0],\n",
       "       [0, 0, 0, 4, 0],\n",
       "       [0, 0, 0, 0, 5]])"
      ]
     },
     "execution_count": 106,
     "metadata": {},
     "output_type": "execute_result"
    }
   ],
   "source": [
    "import numpy as np\n",
    "np.diag([1,2,3,4,5])"
   ]
  },
  {
   "cell_type": "markdown",
   "id": "a2e4ea2a",
   "metadata": {},
   "source": [
    "# 30. Write a numpy program to create a 4 * 4 matrix in which 0 and 1 are staggered with zeros in the main diagonal"
   ]
  },
  {
   "cell_type": "code",
   "execution_count": 109,
   "id": "bf7ecf70",
   "metadata": {},
   "outputs": [
    {
     "data": {
      "text/plain": [
       "array([[0., 0., 0., 0.],\n",
       "       [0., 0., 0., 0.],\n",
       "       [0., 0., 0., 0.],\n",
       "       [0., 0., 0., 0.]])"
      ]
     },
     "execution_count": 109,
     "metadata": {},
     "output_type": "execute_result"
    }
   ],
   "source": [
    "import numpy as np\n",
    "x = np.zeros((4,4))\n",
    "x"
   ]
  },
  {
   "cell_type": "code",
   "execution_count": 111,
   "id": "07b37eaa",
   "metadata": {},
   "outputs": [
    {
     "data": {
      "text/plain": [
       "array([[0., 1., 0., 1.],\n",
       "       [1., 0., 1., 0.],\n",
       "       [0., 1., 0., 1.],\n",
       "       [1., 0., 1., 0.]])"
      ]
     },
     "execution_count": 111,
     "metadata": {},
     "output_type": "execute_result"
    }
   ],
   "source": [
    "x[::2,1::2] = 1\n",
    "x[1::2,::2] = 1\n",
    "x"
   ]
  },
  {
   "cell_type": "markdown",
   "id": "ba6abf71",
   "metadata": {},
   "source": [
    "# 31. Write a numpy program to create a 3 * 3 * 3 array filled with arbitrary values"
   ]
  },
  {
   "cell_type": "code",
   "execution_count": 113,
   "id": "8c7ebf79",
   "metadata": {},
   "outputs": [
    {
     "data": {
      "text/plain": [
       "array([[[0.12270886, 0.2531993 , 0.54411856],\n",
       "        [0.33451434, 0.64925653, 0.86388472],\n",
       "        [0.74402388, 0.58386368, 0.79214905]],\n",
       "\n",
       "       [[0.20641326, 0.70297225, 0.96836643],\n",
       "        [0.38220185, 0.84763311, 0.15325966],\n",
       "        [0.49675306, 0.06082717, 0.16098504]],\n",
       "\n",
       "       [[0.36993432, 0.67339973, 0.53495252],\n",
       "        [0.72618298, 0.68298615, 0.48672522],\n",
       "        [0.16499207, 0.05353344, 0.04972374]]])"
      ]
     },
     "execution_count": 113,
     "metadata": {},
     "output_type": "execute_result"
    }
   ],
   "source": [
    "import numpy as np\n",
    "np.random.random((3,3,3))"
   ]
  },
  {
   "cell_type": "code",
   "execution_count": 115,
   "id": "84683e0f",
   "metadata": {},
   "outputs": [
    {
     "data": {
      "text/plain": [
       "array([[[2, 0, 8],\n",
       "        [6, 8, 9],\n",
       "        [7, 7, 2]],\n",
       "\n",
       "       [[6, 0, 3],\n",
       "        [9, 8, 9],\n",
       "        [1, 5, 0]],\n",
       "\n",
       "       [[6, 9, 5],\n",
       "        [9, 6, 4],\n",
       "        [4, 4, 9]]])"
      ]
     },
     "execution_count": 115,
     "metadata": {},
     "output_type": "execute_result"
    }
   ],
   "source": [
    "import numpy as np\n",
    "np.random.randint(10, size = (3,3,3))"
   ]
  },
  {
   "cell_type": "markdown",
   "id": "456a76c5",
   "metadata": {},
   "source": [
    "# 32. Write a numpy program to compute sum of all elements, sum of each column and sum of each row of a given array"
   ]
  },
  {
   "cell_type": "code",
   "execution_count": 2,
   "id": "9d7f8f39",
   "metadata": {},
   "outputs": [
    {
     "data": {
      "text/plain": [
       "45"
      ]
     },
     "execution_count": 2,
     "metadata": {},
     "output_type": "execute_result"
    }
   ],
   "source": [
    "import numpy as np\n",
    "x = np.array([[1,2,3],\n",
    "             [4,5,6],\n",
    "             [7,8,9]])\n",
    "np.sum(x)"
   ]
  },
  {
   "cell_type": "code",
   "execution_count": 4,
   "id": "067ad536",
   "metadata": {},
   "outputs": [
    {
     "data": {
      "text/plain": [
       "array([ 6, 15, 24])"
      ]
     },
     "execution_count": 4,
     "metadata": {},
     "output_type": "execute_result"
    }
   ],
   "source": [
    "np.sum(x, axis = 1)"
   ]
  },
  {
   "cell_type": "code",
   "execution_count": 6,
   "id": "d0be9d5f",
   "metadata": {},
   "outputs": [
    {
     "data": {
      "text/plain": [
       "array([12, 15, 18])"
      ]
     },
     "execution_count": 6,
     "metadata": {},
     "output_type": "execute_result"
    }
   ],
   "source": [
    "np.sum(x, axis = 0)"
   ]
  },
  {
   "cell_type": "markdown",
   "id": "df16b693",
   "metadata": {},
   "source": [
    "# 33. Write a numpy program to compute the inner product of two vectors "
   ]
  },
  {
   "cell_type": "code",
   "execution_count": 8,
   "id": "9e4198d1",
   "metadata": {},
   "outputs": [
    {
     "data": {
      "text/plain": [
       "32"
      ]
     },
     "execution_count": 8,
     "metadata": {},
     "output_type": "execute_result"
    }
   ],
   "source": [
    "import numpy as np\n",
    "x = np.array([1,2,3])\n",
    "y = np.array([4,5,6])\n",
    "np.dot(x,y)"
   ]
  },
  {
   "cell_type": "markdown",
   "id": "a2bc4e3d",
   "metadata": {},
   "source": [
    "# 34. Write a numpy program to add a vector of each row of a given matrix"
   ]
  },
  {
   "cell_type": "code",
   "execution_count": 12,
   "id": "91dd160b",
   "metadata": {},
   "outputs": [
    {
     "data": {
      "text/plain": [
       "array([[2, 3, 3],\n",
       "       [5, 6, 6],\n",
       "       [8, 9, 9]])"
      ]
     },
     "execution_count": 12,
     "metadata": {},
     "output_type": "execute_result"
    }
   ],
   "source": [
    "import numpy as np\n",
    "m = np.array([[1,2,3],\n",
    "             [4,5,6],\n",
    "             [7,8,9]])\n",
    "v = np.array([1,1,0])\n",
    "result = np.empty_like(m)\n",
    "result[:4,:4] = m[:4,:4] + v\n",
    "result"
   ]
  },
  {
   "cell_type": "markdown",
   "id": "79f60948",
   "metadata": {},
   "source": [
    "# 35. Write a numpy program to save a given array to a binary file"
   ]
  },
  {
   "cell_type": "code",
   "execution_count": 16,
   "id": "509ba47b",
   "metadata": {},
   "outputs": [
    {
     "name": "stdout",
     "output_type": "stream",
     "text": [
      "check if temp_array exist or not\n"
     ]
    }
   ],
   "source": [
    "import numpy as np\n",
    "import os\n",
    "a = np.arange(20)\n",
    "np.save('temp_array.npy', a)\n",
    "print('check if temp_array exist or not')\n",
    "if os.path.exists('temp_array'):\n",
    "    x2 = np.load('temp_array.npy')\n",
    "    np.array_equal(a,x2)"
   ]
  },
  {
   "cell_type": "markdown",
   "id": "af353309",
   "metadata": {},
   "source": [
    "# 36. Write a numpy program to save two arrays into a single file in compressed format (.npz format) and load it"
   ]
  },
  {
   "cell_type": "code",
   "execution_count": 21,
   "id": "b6379bfd",
   "metadata": {},
   "outputs": [
    {
     "data": {
      "text/plain": [
       "True"
      ]
     },
     "execution_count": 21,
     "metadata": {},
     "output_type": "execute_result"
    }
   ],
   "source": [
    "import numpy as np\n",
    "test_array = np.random.rand(3,2)\n",
    "test_vector = np.random.rand(4)\n",
    "np.savez_compressed('temp_arra.npz', a = test_array, b = test_vector)\n",
    "loaded = np.load('temp_arra.npz')\n",
    "np.array_equal(test_array, loaded['a'])"
   ]
  },
  {
   "cell_type": "code",
   "execution_count": 23,
   "id": "ab3fdf47",
   "metadata": {},
   "outputs": [
    {
     "data": {
      "text/plain": [
       "True"
      ]
     },
     "execution_count": 23,
     "metadata": {},
     "output_type": "execute_result"
    }
   ],
   "source": [
    "np.array_equal(test_vector, loaded['b'])"
   ]
  },
  {
   "cell_type": "markdown",
   "id": "ff114928",
   "metadata": {},
   "source": [
    "# 37. Write a numpy program to save a given array to a text file and load it"
   ]
  },
  {
   "cell_type": "code",
   "execution_count": 25,
   "id": "ac30e516",
   "metadata": {},
   "outputs": [
    {
     "data": {
      "text/plain": [
       "array([[ 0.,  1.,  2.],\n",
       "       [ 3.,  4.,  5.],\n",
       "       [ 6.,  7.,  8.],\n",
       "       [ 9., 10., 11.]])"
      ]
     },
     "execution_count": 25,
     "metadata": {},
     "output_type": "execute_result"
    }
   ],
   "source": [
    "import numpy as np\n",
    "x = np.arange(12).reshape(4,3)\n",
    "np.savetxt('temp.txt', x)\n",
    "np.loadtxt('temp.txt')\n"
   ]
  },
  {
   "cell_type": "markdown",
   "id": "1f02ca06",
   "metadata": {},
   "source": [
    "# 38. Write a numpy program to convert a given array into bytes and load it as array"
   ]
  },
  {
   "cell_type": "code",
   "execution_count": 27,
   "id": "80aff51d",
   "metadata": {},
   "outputs": [
    {
     "data": {
      "text/plain": [
       "array([1, 2, 3, 4, 5])"
      ]
     },
     "execution_count": 27,
     "metadata": {},
     "output_type": "execute_result"
    }
   ],
   "source": [
    "import numpy as np\n",
    "a = np.array([1,2,3,4,5])\n",
    "a_bytes = a.tobytes()\n",
    "a2 = np.frombuffer(a_bytes, dtype = a.dtype)\n",
    "a2"
   ]
  },
  {
   "cell_type": "code",
   "execution_count": 29,
   "id": "ded11343",
   "metadata": {},
   "outputs": [
    {
     "data": {
      "text/plain": [
       "True"
      ]
     },
     "execution_count": 29,
     "metadata": {},
     "output_type": "execute_result"
    }
   ],
   "source": [
    "np.array_equal(a,a2)"
   ]
  },
  {
   "cell_type": "markdown",
   "id": "4721a1cb",
   "metadata": {},
   "source": [
    "# 39. Write a numpy program to convert a given list into an array, then again convert it into a list . Check initial list and final list are equal"
   ]
  },
  {
   "cell_type": "code",
   "execution_count": 31,
   "id": "47a0332d",
   "metadata": {},
   "outputs": [
    {
     "data": {
      "text/plain": [
       "True"
      ]
     },
     "execution_count": 31,
     "metadata": {},
     "output_type": "execute_result"
    }
   ],
   "source": [
    "import numpy as np\n",
    "a1 = [1,2,3,4]\n",
    "x = np.array(a1)\n",
    "a2 = x.tolist()\n",
    "np.array_equal(a1,a2)"
   ]
  },
  {
   "cell_type": "markdown",
   "id": "ebafad6d",
   "metadata": {},
   "source": [
    "# 40. Write a numpy program to compute the x and y coordinates for points on a sine curve and plot the points using matplotlib"
   ]
  },
  {
   "cell_type": "markdown",
   "id": "7a78cd84",
   "metadata": {},
   "source": [
    "# 41. Write a numpy program to convert numpy dtypes to native python types"
   ]
  },
  {
   "cell_type": "code",
   "execution_count": 33,
   "id": "1b308e58",
   "metadata": {},
   "outputs": [
    {
     "data": {
      "text/plain": [
       "numpy.float32"
      ]
     },
     "execution_count": 33,
     "metadata": {},
     "output_type": "execute_result"
    }
   ],
   "source": [
    "import numpy as np\n",
    "x = np.float32(0)\n",
    "type(x)"
   ]
  },
  {
   "cell_type": "code",
   "execution_count": 36,
   "id": "a2a7faa6",
   "metadata": {},
   "outputs": [
    {
     "data": {
      "text/plain": [
       "float"
      ]
     },
     "execution_count": 36,
     "metadata": {},
     "output_type": "execute_result"
    }
   ],
   "source": [
    "pyval = x.item()\n",
    "type(pyval)"
   ]
  },
  {
   "cell_type": "code",
   "execution_count": 38,
   "id": "df55a702",
   "metadata": {},
   "outputs": [
    {
     "data": {
      "text/plain": [
       "numpy.ndarray"
      ]
     },
     "execution_count": 38,
     "metadata": {},
     "output_type": "execute_result"
    }
   ],
   "source": [
    "x = np.array([1,2,3])\n",
    "type(x)"
   ]
  },
  {
   "cell_type": "markdown",
   "id": "28e42e2d",
   "metadata": {},
   "source": [
    "# 42. Write a numpy program to add elements in a matrix . If an element in the matrix is 0 , we will not add the element below this element"
   ]
  },
  {
   "cell_type": "code",
   "execution_count": 43,
   "id": "04d78dc2",
   "metadata": {},
   "outputs": [
    {
     "data": {
      "text/plain": [
       "14"
      ]
     },
     "execution_count": 43,
     "metadata": {},
     "output_type": "execute_result"
    }
   ],
   "source": [
    "import numpy as np\n",
    "def sum_matrix_elements(m):\n",
    "    arra = np.array(m)\n",
    "    element_sum = 0\n",
    "    for p in range(len(arra)):\n",
    "        for q in range(len(arra[p])):\n",
    "            if arra[p][q] == 0 and p < len(arra) - 1:\n",
    "                arra[p+1][q] = 0\n",
    "            element_sum += arra[p][q]\n",
    "    return element_sum\n",
    "m = np.array([[1,1,0,2],\n",
    "             [0,3,0,3],\n",
    "             [1,0,4,4]])\n",
    "sum = sum_matrix_elements(m)\n",
    "sum"
   ]
  },
  {
   "cell_type": "markdown",
   "id": "a2d4b2c6",
   "metadata": {},
   "source": [
    "# 43. Write a numpy program to find the missing data in a given array"
   ]
  },
  {
   "cell_type": "code",
   "execution_count": 45,
   "id": "77603258",
   "metadata": {},
   "outputs": [
    {
     "data": {
      "text/plain": [
       "array([[False, False,  True, False],\n",
       "       [False, False, False, False],\n",
       "       [False,  True, False,  True]])"
      ]
     },
     "execution_count": 45,
     "metadata": {},
     "output_type": "execute_result"
    }
   ],
   "source": [
    "import numpy as np\n",
    "num = np.array([[3,2,np.nan,1],\n",
    "               [10,12,10,9],\n",
    "               [5,np.nan,1,np.nan]])\n",
    "np.isnan(num)"
   ]
  },
  {
   "cell_type": "markdown",
   "id": "5cbebcf7",
   "metadata": {},
   "source": [
    "# 44. Write a numpy program to check whether two arrays are equal (element wise) or not"
   ]
  },
  {
   "cell_type": "code",
   "execution_count": 47,
   "id": "0a8f6443",
   "metadata": {},
   "outputs": [
    {
     "data": {
      "text/plain": [
       "array([False, False,  True])"
      ]
     },
     "execution_count": 47,
     "metadata": {},
     "output_type": "execute_result"
    }
   ],
   "source": [
    "import numpy as np\n",
    "num1 = np.array([0.5,0.2,0.3])\n",
    "num2 = np.array([0.6,0.5,0.3])\n",
    "np.equal(num1,num2)"
   ]
  },
  {
   "cell_type": "markdown",
   "id": "dc805ab1",
   "metadata": {},
   "source": [
    "# 45. Write a numpy program to create one - dimensional array of single, two and three digit numbers"
   ]
  },
  {
   "cell_type": "code",
   "execution_count": 50,
   "id": "a3d8f336",
   "metadata": {},
   "outputs": [
    {
     "data": {
      "text/plain": [
       "array([1])"
      ]
     },
     "execution_count": 50,
     "metadata": {},
     "output_type": "execute_result"
    }
   ],
   "source": [
    "import numpy as np\n",
    "np.array([1])"
   ]
  },
  {
   "cell_type": "code",
   "execution_count": 52,
   "id": "f06d185c",
   "metadata": {},
   "outputs": [
    {
     "data": {
      "text/plain": [
       "array([12, 34])"
      ]
     },
     "execution_count": 52,
     "metadata": {},
     "output_type": "execute_result"
    }
   ],
   "source": [
    "np.array([12,34])"
   ]
  },
  {
   "cell_type": "code",
   "execution_count": 54,
   "id": "ceb8b082",
   "metadata": {},
   "outputs": [
    {
     "data": {
      "text/plain": [
       "array([12, 34, 56])"
      ]
     },
     "execution_count": 54,
     "metadata": {},
     "output_type": "execute_result"
    }
   ],
   "source": [
    "np.array([12,34,56])"
   ]
  },
  {
   "cell_type": "markdown",
   "id": "5dac4c28",
   "metadata": {},
   "source": [
    "# 46. Write a numpy program to create a two - dimensional array of specified format"
   ]
  },
  {
   "cell_type": "code",
   "execution_count": 56,
   "id": "f4b6d345",
   "metadata": {},
   "outputs": [
    {
     "data": {
      "text/plain": [
       "array([[  1,   2,   3,   4,   5,   6,   7,   8,   9,  10],\n",
       "       [ 11,  12,  13,  14,  15,  16,  17,  18,  19,  20],\n",
       "       [ 21,  22,  23,  24,  25,  26,  27,  28,  29,  30],\n",
       "       [ 31,  32,  33,  34,  35,  36,  37,  38,  39,  40],\n",
       "       [ 41,  42,  43,  44,  45,  46,  47,  48,  49,  50],\n",
       "       [ 51,  52,  53,  54,  55,  56,  57,  58,  59,  60],\n",
       "       [ 61,  62,  63,  64,  65,  66,  67,  68,  69,  70],\n",
       "       [ 71,  72,  73,  74,  75,  76,  77,  78,  79,  80],\n",
       "       [ 81,  82,  83,  84,  85,  86,  87,  88,  89,  90],\n",
       "       [ 91,  92,  93,  94,  95,  96,  97,  98,  99, 100],\n",
       "       [101, 102, 103, 104, 105, 106, 107, 108, 109, 110],\n",
       "       [111, 112, 113, 114, 115, 116, 117, 118, 119, 120],\n",
       "       [121, 122, 123, 124, 125, 126, 127, 128, 129, 130],\n",
       "       [131, 132, 133, 134, 135, 136, 137, 138, 139, 140],\n",
       "       [141, 142, 143, 144, 145, 146, 147, 148, 149, 150]])"
      ]
     },
     "execution_count": 56,
     "metadata": {},
     "output_type": "execute_result"
    }
   ],
   "source": [
    "import numpy as np\n",
    "np.arange(1,151).reshape(15,10)"
   ]
  },
  {
   "cell_type": "code",
   "execution_count": 58,
   "id": "acf41379",
   "metadata": {},
   "outputs": [
    {
     "data": {
      "text/plain": [
       "array([[  1,   2,   3,   4,   5,   6,   7,   8,   9,  10],\n",
       "       [ 11,  12,  13,  14,  15,  16,  17,  18,  19,  20],\n",
       "       [ 21,  22,  23,  24,  25,  26,  27,  28,  29,  30],\n",
       "       [ 31,  32,  33,  34,  35,  36,  37,  38,  39,  40],\n",
       "       [ 41,  42,  43,  44,  45,  46,  47,  48,  49,  50],\n",
       "       [ 51,  52,  53,  54,  55,  56,  57,  58,  59,  60],\n",
       "       [ 61,  62,  63,  64,  65,  66,  67,  68,  69,  70],\n",
       "       [ 71,  72,  73,  74,  75,  76,  77,  78,  79,  80],\n",
       "       [ 81,  82,  83,  84,  85,  86,  87,  88,  89,  90],\n",
       "       [ 91,  92,  93,  94,  95,  96,  97,  98,  99, 100],\n",
       "       [101, 102, 103, 104, 105, 106, 107, 108, 109, 110],\n",
       "       [111, 112, 113, 114, 115, 116, 117, 118, 119, 120],\n",
       "       [121, 122, 123, 124, 125, 126, 127, 128, 129, 130],\n",
       "       [131, 132, 133, 134, 135, 136, 137, 138, 139, 140],\n",
       "       [141, 142, 143, 144, 145, 146, 147, 148, 149, 150]])"
      ]
     },
     "execution_count": 58,
     "metadata": {},
     "output_type": "execute_result"
    }
   ],
   "source": [
    "np.arange(1,151).reshape(-1,10)\n"
   ]
  },
  {
   "cell_type": "code",
   "execution_count": 60,
   "id": "3fd0e16b",
   "metadata": {},
   "outputs": [
    {
     "data": {
      "text/plain": [
       "array([[  1,   2,   3,   4,   5,   6,   7,   8,   9,  10],\n",
       "       [ 11,  12,  13,  14,  15,  16,  17,  18,  19,  20],\n",
       "       [ 21,  22,  23,  24,  25,  26,  27,  28,  29,  30],\n",
       "       [ 31,  32,  33,  34,  35,  36,  37,  38,  39,  40],\n",
       "       [ 41,  42,  43,  44,  45,  46,  47,  48,  49,  50],\n",
       "       [ 51,  52,  53,  54,  55,  56,  57,  58,  59,  60],\n",
       "       [ 61,  62,  63,  64,  65,  66,  67,  68,  69,  70],\n",
       "       [ 71,  72,  73,  74,  75,  76,  77,  78,  79,  80],\n",
       "       [ 81,  82,  83,  84,  85,  86,  87,  88,  89,  90],\n",
       "       [ 91,  92,  93,  94,  95,  96,  97,  98,  99, 100],\n",
       "       [101, 102, 103, 104, 105, 106, 107, 108, 109, 110],\n",
       "       [111, 112, 113, 114, 115, 116, 117, 118, 119, 120],\n",
       "       [121, 122, 123, 124, 125, 126, 127, 128, 129, 130],\n",
       "       [131, 132, 133, 134, 135, 136, 137, 138, 139, 140],\n",
       "       [141, 142, 143, 144, 145, 146, 147, 148, 149, 150]])"
      ]
     },
     "execution_count": 60,
     "metadata": {},
     "output_type": "execute_result"
    }
   ],
   "source": [
    "np.arange(1,151).reshape(15,-1)"
   ]
  },
  {
   "cell_type": "markdown",
   "id": "17f08d3e",
   "metadata": {},
   "source": [
    "# 47. Write a numpy program to create a one - dimensional array of forty pseudo randomly generated values. Select random numbers from a uniform distribution between 0 and 1"
   ]
  },
  {
   "cell_type": "code",
   "execution_count": 62,
   "id": "0c990265",
   "metadata": {},
   "outputs": [
    {
     "data": {
      "text/plain": [
       "array([0.77132064, 0.02075195, 0.63364823, 0.74880388, 0.49850701,\n",
       "       0.22479665, 0.19806286, 0.76053071, 0.16911084, 0.08833981,\n",
       "       0.68535982, 0.95339335, 0.00394827, 0.51219226, 0.81262096,\n",
       "       0.61252607, 0.72175532, 0.29187607, 0.91777412, 0.71457578,\n",
       "       0.54254437, 0.14217005, 0.37334076, 0.67413362, 0.44183317,\n",
       "       0.43401399, 0.61776698, 0.51313824, 0.65039718, 0.60103895,\n",
       "       0.8052232 , 0.52164715, 0.90864888, 0.31923609, 0.09045935,\n",
       "       0.30070006, 0.11398436, 0.82868133, 0.04689632, 0.62628715])"
      ]
     },
     "execution_count": 62,
     "metadata": {},
     "output_type": "execute_result"
    }
   ],
   "source": [
    "import numpy as np\n",
    "np.random.seed(10)\n",
    "np.random.rand(40)"
   ]
  },
  {
   "cell_type": "markdown",
   "id": "92dd952a",
   "metadata": {},
   "source": [
    "# 48. Write a numpy program to create a two - dimensiona; array with shape(8,5) of random numbers. Select random numbers from a normal distribution (200,7)"
   ]
  },
  {
   "cell_type": "code",
   "execution_count": 64,
   "id": "11d62cec",
   "metadata": {},
   "outputs": [
    {
     "data": {
      "text/plain": [
       "array([[201.12505375, 201.71726458, 201.70543693, 201.56064095,\n",
       "        200.06865431],\n",
       "       [201.32328465, 200.72439058, 200.99187576, 201.25861588,\n",
       "        200.37082213],\n",
       "       [200.52092254, 201.3746437 , 201.49783202, 201.62661826,\n",
       "        201.48299013],\n",
       "       [200.0701363 , 200.22322708, 201.43714828, 200.45760799,\n",
       "        200.48742637],\n",
       "       [201.64057862, 201.81686192, 201.07446831, 200.34199483,\n",
       "        201.47343894],\n",
       "       [200.94189104, 201.20754367, 201.60590175, 200.88193664,\n",
       "        200.95252509],\n",
       "       [201.29966671, 201.24490867, 200.51418679, 200.12878745,\n",
       "        201.47572146],\n",
       "       [200.92008955, 200.6297492 , 200.9768212 , 200.50430381,\n",
       "        200.59398723]])"
      ]
     },
     "execution_count": 64,
     "metadata": {},
     "output_type": "execute_result"
    }
   ],
   "source": [
    "import numpy as np\n",
    "np.random.seed(20)\n",
    "cbrt = np.cbrt(7)\n",
    "nd1 = 200\n",
    "cbrt*np.random.rand(8,5) + nd1"
   ]
  },
  {
   "cell_type": "markdown",
   "id": "c21092d4",
   "metadata": {},
   "source": [
    "# 49. Write a numpy program to generate a uniform, non - uniform random sample from a given 1 - D array with and without replacement"
   ]
  },
  {
   "cell_type": "code",
   "execution_count": 67,
   "id": "e93f8bc4",
   "metadata": {},
   "outputs": [
    {
     "data": {
      "text/plain": [
       "array([6, 4, 3, 3, 0])"
      ]
     },
     "execution_count": 67,
     "metadata": {},
     "output_type": "execute_result"
    }
   ],
   "source": [
    "import numpy as np\n",
    "# generate a uniform random sample with replacement\n",
    "np.random.choice(7,5)\n"
   ]
  },
  {
   "cell_type": "code",
   "execution_count": 69,
   "id": "3fcfb080",
   "metadata": {},
   "outputs": [
    {
     "data": {
      "text/plain": [
       "array([3, 4, 0, 6, 2])"
      ]
     },
     "execution_count": 69,
     "metadata": {},
     "output_type": "execute_result"
    }
   ],
   "source": [
    "# generate a uniform random sample without replacement\n",
    "np.random.choice(7,5, replace = False)"
   ]
  },
  {
   "cell_type": "code",
   "execution_count": 71,
   "id": "e6ec3875",
   "metadata": {},
   "outputs": [
    {
     "data": {
      "text/plain": [
       "array([4, 3, 4, 4, 0])"
      ]
     },
     "execution_count": 71,
     "metadata": {},
     "output_type": "execute_result"
    }
   ],
   "source": [
    "# generate a non - uniform sample with replacement\n",
    "np.random.choice(7,5, p = [0.1,0.2,0,0.2,0.4,0,0.1])"
   ]
  },
  {
   "cell_type": "code",
   "execution_count": 74,
   "id": "1f58618a",
   "metadata": {},
   "outputs": [
    {
     "data": {
      "text/plain": [
       "array([6, 4, 3, 1, 0])"
      ]
     },
     "execution_count": 74,
     "metadata": {},
     "output_type": "execute_result"
    }
   ],
   "source": [
    "# generate a non - uniform sample without replacement\n",
    "np.random.choice(7,5, p = [0.1,0.2,0,0.2,0.4,0,0.1], replace = False)"
   ]
  },
  {
   "cell_type": "markdown",
   "id": "f436cb0d",
   "metadata": {},
   "source": [
    "# 50. Write a numpy program to create a 4 * 4 array with random values, now create a new array from the said array swapping first and last rows"
   ]
  },
  {
   "cell_type": "code",
   "execution_count": 78,
   "id": "59379637",
   "metadata": {},
   "outputs": [
    {
     "data": {
      "text/plain": [
       "array([[ 0,  1,  2,  3],\n",
       "       [ 4,  5,  6,  7],\n",
       "       [ 8,  9, 10, 11],\n",
       "       [12, 13, 14, 15]])"
      ]
     },
     "execution_count": 78,
     "metadata": {},
     "output_type": "execute_result"
    }
   ],
   "source": [
    "import numpy as np\n",
    "nums = np.arange(16).reshape(4,4)\n",
    "nums"
   ]
  },
  {
   "cell_type": "code",
   "execution_count": 83,
   "id": "53f9594b",
   "metadata": {},
   "outputs": [
    {
     "data": {
      "text/plain": [
       "array([[ 0,  1,  2,  3],\n",
       "       [ 4,  5,  6,  7],\n",
       "       [ 8,  9, 10, 11],\n",
       "       [12, 13, 14, 15]])"
      ]
     },
     "execution_count": 83,
     "metadata": {},
     "output_type": "execute_result"
    }
   ],
   "source": [
    "nums[[0,-1],:] = nums[[-1,0],:]\n",
    "nums"
   ]
  },
  {
   "cell_type": "markdown",
   "id": "79b5f09d",
   "metadata": {},
   "source": [
    "# 51. Write a numpy program to create a new array of given shape(5,6) and type, filled with zeros"
   ]
  },
  {
   "cell_type": "code",
   "execution_count": 89,
   "id": "2fb04c8f",
   "metadata": {},
   "outputs": [
    {
     "data": {
      "text/plain": [
       "array([[0., 0., 0., 0., 0., 0.],\n",
       "       [0., 0., 0., 0., 0., 0.],\n",
       "       [0., 0., 0., 0., 0., 0.],\n",
       "       [0., 0., 0., 0., 0., 0.],\n",
       "       [0., 0., 0., 0., 0., 0.]])"
      ]
     },
     "execution_count": 89,
     "metadata": {},
     "output_type": "execute_result"
    }
   ],
   "source": [
    "import numpy as np\n",
    "np.zeros(30).reshape(5,6)"
   ]
  },
  {
   "cell_type": "markdown",
   "id": "62447f13",
   "metadata": {},
   "source": [
    "# 52. Write a numpy program to sort a given array by row and column in ascending order"
   ]
  },
  {
   "cell_type": "code",
   "execution_count": 91,
   "id": "1cab52ad",
   "metadata": {},
   "outputs": [
    {
     "data": {
      "text/plain": [
       "array([[1.54, 2.29, 6.99],\n",
       "       [3.54, 3.38, 7.99],\n",
       "       [5.54, 4.38, 9.98]])"
      ]
     },
     "execution_count": 91,
     "metadata": {},
     "output_type": "execute_result"
    }
   ],
   "source": [
    "import numpy as np\n",
    "array = np.array([[5.54,3.38,7.99],\n",
    "                 [3.54,4.38,6.99],\n",
    "                 [1.54,2.29,9.98]])\n",
    "np.sort(array, axis = 0)"
   ]
  },
  {
   "cell_type": "code",
   "execution_count": 93,
   "id": "1db8460b",
   "metadata": {},
   "outputs": [
    {
     "data": {
      "text/plain": [
       "array([[3.38, 5.54, 7.99],\n",
       "       [3.54, 4.38, 6.99],\n",
       "       [1.54, 2.29, 9.98]])"
      ]
     },
     "execution_count": 93,
     "metadata": {},
     "output_type": "execute_result"
    }
   ],
   "source": [
    "np.sort(array, axis = 1)"
   ]
  },
  {
   "cell_type": "markdown",
   "id": "0f760627",
   "metadata": {},
   "source": [
    "# 53. Write a numpy program to extract all numbers from a given array which are less and greater than a specified number"
   ]
  },
  {
   "cell_type": "code",
   "execution_count": 95,
   "id": "bf66f757",
   "metadata": {},
   "outputs": [
    {
     "data": {
      "text/plain": [
       "array([5.54, 7.99, 6.99, 9.98])"
      ]
     },
     "execution_count": 95,
     "metadata": {},
     "output_type": "execute_result"
    }
   ],
   "source": [
    "import numpy as np\n",
    "array = np.array([[5.54,3.38,7.99],\n",
    "                 [3.54,4.38,6.99],\n",
    "                 [1.54,2.29,9.98]])\n",
    "array[array>5]"
   ]
  },
  {
   "cell_type": "code",
   "execution_count": 98,
   "id": "455eb24f",
   "metadata": {},
   "outputs": [
    {
     "data": {
      "text/plain": [
       "array([3.38, 3.54, 4.38, 1.54, 2.29])"
      ]
     },
     "execution_count": 98,
     "metadata": {},
     "output_type": "execute_result"
    }
   ],
   "source": [
    "array[array<5]"
   ]
  },
  {
   "cell_type": "markdown",
   "id": "64b2991e",
   "metadata": {},
   "source": [
    "# 54. Write a numpy program to replace all numbers in a given array which is equal, less and greater to a given number"
   ]
  },
  {
   "cell_type": "code",
   "execution_count": 100,
   "id": "49597fa6",
   "metadata": {},
   "outputs": [
    {
     "name": "stdout",
     "output_type": "stream",
     "text": [
      "replace all elements which are equal to 8.32 with 18.32\n"
     ]
    },
    {
     "data": {
      "text/plain": [
       "array([[5.54, 3.38, 7.99],\n",
       "       [3.54, 4.38, 6.99],\n",
       "       [1.54, 2.29, 9.98]])"
      ]
     },
     "execution_count": 100,
     "metadata": {},
     "output_type": "execute_result"
    }
   ],
   "source": [
    "import numpy as np\n",
    "array = np.array([[5.54,3.38,7.99],\n",
    "                 [3.54,4.38,6.99],\n",
    "                 [1.54,2.29,9.98]])\n",
    "n = 8.32\n",
    "r = 18.32\n",
    "print('replace all elements which are equal to',n,'with',r)\n",
    "np.where(array == n, r, array)"
   ]
  },
  {
   "cell_type": "code",
   "execution_count": 102,
   "id": "4b98bb38",
   "metadata": {},
   "outputs": [
    {
     "name": "stdout",
     "output_type": "stream",
     "text": [
      "replace elements which are less than 8.32 with 18.32\n"
     ]
    },
    {
     "data": {
      "text/plain": [
       "array([[18.32, 18.32, 18.32],\n",
       "       [18.32, 18.32, 18.32],\n",
       "       [18.32, 18.32,  9.98]])"
      ]
     },
     "execution_count": 102,
     "metadata": {},
     "output_type": "execute_result"
    }
   ],
   "source": [
    "print('replace elements which are less than',n,'with',r)\n",
    "np.where(array < n, r, array)"
   ]
  },
  {
   "cell_type": "code",
   "execution_count": 104,
   "id": "8ee53356",
   "metadata": {},
   "outputs": [
    {
     "name": "stdout",
     "output_type": "stream",
     "text": [
      "replace elements which are greater than 8.32 with 18.32\n"
     ]
    },
    {
     "data": {
      "text/plain": [
       "array([[ 5.54,  3.38,  7.99],\n",
       "       [ 3.54,  4.38,  6.99],\n",
       "       [ 1.54,  2.29, 18.32]])"
      ]
     },
     "execution_count": 104,
     "metadata": {},
     "output_type": "execute_result"
    }
   ],
   "source": [
    "print('replace elements which are greater than',n,'with',r)\n",
    "np.where(array > n, r, array)"
   ]
  },
  {
   "cell_type": "markdown",
   "id": "376b8b51",
   "metadata": {},
   "source": [
    "# 55. Write a numpy program to create a array of equal shape and data type of a given array"
   ]
  },
  {
   "cell_type": "code",
   "execution_count": 106,
   "id": "2ae31f24",
   "metadata": {},
   "outputs": [
    {
     "data": {
      "text/plain": [
       "array([[ 0,  1,  2,  3],\n",
       "       [ 4,  5,  6,  7],\n",
       "       [ 8,  9, 10, 11],\n",
       "       [12, 13, 14, 15]])"
      ]
     },
     "execution_count": 106,
     "metadata": {},
     "output_type": "execute_result"
    }
   ],
   "source": [
    "import numpy as np\n",
    "array = np.arange(16).reshape(4,4)\n",
    "array"
   ]
  },
  {
   "cell_type": "code",
   "execution_count": 108,
   "id": "250e8a97",
   "metadata": {},
   "outputs": [
    {
     "data": {
      "text/plain": [
       "array([[0, 0, 0, 0],\n",
       "       [0, 0, 0, 0],\n",
       "       [0, 0, 0, 0],\n",
       "       [0, 0, 0, 0]])"
      ]
     },
     "execution_count": 108,
     "metadata": {},
     "output_type": "execute_result"
    }
   ],
   "source": [
    "np.zeros_like(array)"
   ]
  },
  {
   "cell_type": "markdown",
   "id": "959f9c19",
   "metadata": {},
   "source": [
    "# 56. Write a numpy program to create a three - dimensional array with shape (3,5,4) and set to a variable"
   ]
  },
  {
   "cell_type": "code",
   "execution_count": 111,
   "id": "29f3c47d",
   "metadata": {},
   "outputs": [
    {
     "data": {
      "text/plain": [
       "array([[[ 1,  2,  3,  4],\n",
       "        [ 5,  6,  7,  8],\n",
       "        [ 9, 10, 11, 12],\n",
       "        [13, 14, 15, 16],\n",
       "        [17, 18, 19, 20]],\n",
       "\n",
       "       [[21, 22, 23, 24],\n",
       "        [25, 26, 27, 28],\n",
       "        [29, 30, 31, 32],\n",
       "        [33, 34, 35, 36],\n",
       "        [37, 38, 39, 40]],\n",
       "\n",
       "       [[41, 42, 43, 44],\n",
       "        [45, 46, 47, 48],\n",
       "        [49, 50, 51, 52],\n",
       "        [53, 54, 55, 56],\n",
       "        [57, 58, 59, 60]]])"
      ]
     },
     "execution_count": 111,
     "metadata": {},
     "output_type": "execute_result"
    }
   ],
   "source": [
    "import numpy as np\n",
    "np.arange(1,61).reshape(3,5,4)"
   ]
  },
  {
   "cell_type": "markdown",
   "id": "33da33df",
   "metadata": {},
   "source": [
    "# 57. Write a numpy program to create a 4 * 4 array, now create a new array from the said array swapping first and last, second and third column"
   ]
  },
  {
   "cell_type": "code",
   "execution_count": 113,
   "id": "c27cfbe7",
   "metadata": {},
   "outputs": [
    {
     "data": {
      "text/plain": [
       "array([[ 2, 15,  9,  2],\n",
       "       [ 1,  9, 12,  6],\n",
       "       [ 1, 11,  7,  6],\n",
       "       [ 5, 12,  3, 10]])"
      ]
     },
     "execution_count": 113,
     "metadata": {},
     "output_type": "execute_result"
    }
   ],
   "source": [
    "import numpy as np\n",
    "num = np.random.randint(1,17, size = (4,4))\n",
    "num"
   ]
  },
  {
   "cell_type": "code",
   "execution_count": 115,
   "id": "ea262861",
   "metadata": {},
   "outputs": [
    {
     "data": {
      "text/plain": [
       "array([[ 2,  9, 15,  2],\n",
       "       [ 6, 12,  9,  1],\n",
       "       [ 6,  7, 11,  1],\n",
       "       [10,  3, 12,  5]])"
      ]
     },
     "execution_count": 115,
     "metadata": {},
     "output_type": "execute_result"
    }
   ],
   "source": [
    "num[:,::-1]"
   ]
  },
  {
   "cell_type": "markdown",
   "id": "83b261be",
   "metadata": {},
   "source": [
    "# 58. Write a numpy program to swap rows and columns of a given array in reverse order"
   ]
  },
  {
   "cell_type": "code",
   "execution_count": 118,
   "id": "c4e67098",
   "metadata": {},
   "outputs": [
    {
     "data": {
      "text/plain": [
       "array([[ 0,  1,  2,  3],\n",
       "       [ 4,  5,  6,  7],\n",
       "       [ 8,  9, 10, 11],\n",
       "       [12, 13, 14, 15]])"
      ]
     },
     "execution_count": 118,
     "metadata": {},
     "output_type": "execute_result"
    }
   ],
   "source": [
    "import numpy as np\n",
    "array = np.arange(16).reshape(4,4)\n",
    "array[::-1,::-1]\n",
    "array"
   ]
  },
  {
   "cell_type": "markdown",
   "id": "c29752c6",
   "metadata": {},
   "source": [
    "# 59. Write a numpy program to multiply two given arrays of same size element - by - element"
   ]
  },
  {
   "cell_type": "code",
   "execution_count": null,
   "id": "200bdf19",
   "metadata": {},
   "outputs": [],
   "source": [
    "import numpy as np\n",
    "num_1 = np.random.randint(1,5, size = (2,3))\n",
    "num_2 = np.random.randint(1,5, size = (2,3))\n",
    "np.multiply(num_1)"
   ]
  }
 ],
 "metadata": {
  "kernelspec": {
   "display_name": "Python 3 (ipykernel)",
   "language": "python",
   "name": "python3"
  },
  "language_info": {
   "codemirror_mode": {
    "name": "ipython",
    "version": 3
   },
   "file_extension": ".py",
   "mimetype": "text/x-python",
   "name": "python",
   "nbconvert_exporter": "python",
   "pygments_lexer": "ipython3",
   "version": "3.9.13"
  }
 },
 "nbformat": 4,
 "nbformat_minor": 5
}
