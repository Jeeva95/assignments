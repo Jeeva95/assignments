{
 "cells": [
  {
   "cell_type": "markdown",
   "id": "16bf38fc",
   "metadata": {},
   "source": [
    "# 1. Write a pandas program to create and display a one - dimensional array like object containing an array of data using pandas modules"
   ]
  },
  {
   "cell_type": "code",
   "execution_count": 2,
   "id": "95d36275",
   "metadata": {},
   "outputs": [
    {
     "data": {
      "text/plain": [
       "0    1\n",
       "1    2\n",
       "2    3\n",
       "3    4\n",
       "4    5\n",
       "dtype: int32"
      ]
     },
     "execution_count": 2,
     "metadata": {},
     "output_type": "execute_result"
    }
   ],
   "source": [
    "import pandas as pd\n",
    "import numpy as np\n",
    "array = np.array([1,2,3,4,5])\n",
    "series = pd.Series(array)\n",
    "series"
   ]
  },
  {
   "cell_type": "markdown",
   "id": "a263a22d",
   "metadata": {},
   "source": [
    "# 2. Write a pandas program to convert a pandas series to python list and it type"
   ]
  },
  {
   "cell_type": "code",
   "execution_count": 6,
   "id": "4a415604",
   "metadata": {},
   "outputs": [
    {
     "data": {
      "text/plain": [
       "<bound method IndexOpsMixin.tolist of 0     2\n",
       "1     4\n",
       "2     6\n",
       "3     8\n",
       "4    10\n",
       "dtype: int64>"
      ]
     },
     "execution_count": 6,
     "metadata": {},
     "output_type": "execute_result"
    }
   ],
   "source": [
    "import pandas as pd\n",
    "ds = pd.Series([2,4,6,8,10])\n",
    "x = ds.tolist\n",
    "x"
   ]
  },
  {
   "cell_type": "code",
   "execution_count": 8,
   "id": "cf29d3f0",
   "metadata": {},
   "outputs": [
    {
     "name": "stdout",
     "output_type": "stream",
     "text": [
      "<class 'method'>\n"
     ]
    }
   ],
   "source": [
    "print(type(x))"
   ]
  },
  {
   "cell_type": "markdown",
   "id": "552901a0",
   "metadata": {},
   "source": [
    "# 3. Write a pandas program to add, subtract, multiply and divide two pandas series\n",
    "# sample series : [2,4,6,8,10], [1,3,5,7,9]"
   ]
  },
  {
   "cell_type": "code",
   "execution_count": 13,
   "id": "c89682d1",
   "metadata": {},
   "outputs": [
    {
     "data": {
      "text/plain": [
       "0     3\n",
       "1     7\n",
       "2    11\n",
       "3    15\n",
       "4    19\n",
       "dtype: int64"
      ]
     },
     "execution_count": 13,
     "metadata": {},
     "output_type": "execute_result"
    }
   ],
   "source": [
    "import pandas as pd\n",
    "ds1 = pd.Series([2,4,6,8,10])\n",
    "ds2 = pd.Series([1,3,5,7,9])\n",
    "# sum\n",
    "ds1+ds2"
   ]
  },
  {
   "cell_type": "code",
   "execution_count": 15,
   "id": "2e554a3a",
   "metadata": {},
   "outputs": [
    {
     "data": {
      "text/plain": [
       "0    1\n",
       "1    1\n",
       "2    1\n",
       "3    1\n",
       "4    1\n",
       "dtype: int64"
      ]
     },
     "execution_count": 15,
     "metadata": {},
     "output_type": "execute_result"
    }
   ],
   "source": [
    "# subtract\n",
    "ds1 - ds2"
   ]
  },
  {
   "cell_type": "code",
   "execution_count": 17,
   "id": "c67da130",
   "metadata": {},
   "outputs": [
    {
     "data": {
      "text/plain": [
       "0     2\n",
       "1    12\n",
       "2    30\n",
       "3    56\n",
       "4    90\n",
       "dtype: int64"
      ]
     },
     "execution_count": 17,
     "metadata": {},
     "output_type": "execute_result"
    }
   ],
   "source": [
    "# multiply\n",
    "ds1 * ds2"
   ]
  },
  {
   "cell_type": "code",
   "execution_count": 19,
   "id": "bdc0e097",
   "metadata": {},
   "outputs": [
    {
     "data": {
      "text/plain": [
       "0    2.000000\n",
       "1    1.333333\n",
       "2    1.200000\n",
       "3    1.142857\n",
       "4    1.111111\n",
       "dtype: float64"
      ]
     },
     "execution_count": 19,
     "metadata": {},
     "output_type": "execute_result"
    }
   ],
   "source": [
    "# divide\n",
    "ds1/ds2"
   ]
  },
  {
   "cell_type": "markdown",
   "id": "9527d195",
   "metadata": {},
   "source": [
    "# 4. Write a pandas program to compare the elements of the two pandas series\n",
    "# sample series : [2,4,6,8,10],[1,3,5,7,9]"
   ]
  },
  {
   "cell_type": "code",
   "execution_count": 21,
   "id": "ad98b5db",
   "metadata": {},
   "outputs": [
    {
     "data": {
      "text/plain": [
       "0    False\n",
       "1    False\n",
       "2    False\n",
       "3    False\n",
       "4    False\n",
       "dtype: bool"
      ]
     },
     "execution_count": 21,
     "metadata": {},
     "output_type": "execute_result"
    }
   ],
   "source": [
    "import pandas as pd\n",
    "ds1 = pd.Series([2,4,6,8,10])\n",
    "ds2 = pd.Series([1,3,5,7,9])\n",
    "# equal \n",
    "ds1 == ds2"
   ]
  },
  {
   "cell_type": "code",
   "execution_count": 23,
   "id": "b64b8dfb",
   "metadata": {},
   "outputs": [
    {
     "data": {
      "text/plain": [
       "0    True\n",
       "1    True\n",
       "2    True\n",
       "3    True\n",
       "4    True\n",
       "dtype: bool"
      ]
     },
     "execution_count": 23,
     "metadata": {},
     "output_type": "execute_result"
    }
   ],
   "source": [
    "#greater\n",
    "ds1>ds2"
   ]
  },
  {
   "cell_type": "code",
   "execution_count": 25,
   "id": "44973f7d",
   "metadata": {},
   "outputs": [
    {
     "data": {
      "text/plain": [
       "0    False\n",
       "1    False\n",
       "2    False\n",
       "3    False\n",
       "4    False\n",
       "dtype: bool"
      ]
     },
     "execution_count": 25,
     "metadata": {},
     "output_type": "execute_result"
    }
   ],
   "source": [
    "# less\n",
    "ds1<ds2"
   ]
  },
  {
   "cell_type": "markdown",
   "id": "4da92ea7",
   "metadata": {},
   "source": [
    "# 5. Write a pandas program to convert a dictionary to a pandas series\n",
    "# sample series : {'a' : 100, 'b' : 200, 'c' : 300, 'd' : 400, 'e' : 800}\n"
   ]
  },
  {
   "cell_type": "code",
   "execution_count": 27,
   "id": "cc407697",
   "metadata": {},
   "outputs": [
    {
     "data": {
      "text/plain": [
       "a    100\n",
       "b    200\n",
       "c    300\n",
       "d    400\n",
       "e    800\n",
       "dtype: int64"
      ]
     },
     "execution_count": 27,
     "metadata": {},
     "output_type": "execute_result"
    }
   ],
   "source": [
    "import pandas as pd\n",
    "d1 = {'a':100,'b':200,'c':300,'d':400,'e':800}\n",
    "pd.Series(d1)"
   ]
  },
  {
   "cell_type": "markdown",
   "id": "4826c65a",
   "metadata": {},
   "source": [
    "# 6. Write a pandas program to convert a numpy array to a pandas series\n",
    "# sample series :\n",
    "# numpy array : [10,20,30,40,50]\n"
   ]
  },
  {
   "cell_type": "code",
   "execution_count": 30,
   "id": "2407eddb",
   "metadata": {},
   "outputs": [
    {
     "data": {
      "text/plain": [
       "0    10\n",
       "1    20\n",
       "2    30\n",
       "3    40\n",
       "4    50\n",
       "dtype: int32"
      ]
     },
     "execution_count": 30,
     "metadata": {},
     "output_type": "execute_result"
    }
   ],
   "source": [
    "import numpy as np\n",
    "import pandas as pd\n",
    "np = np.array([10,20,30,40,50])\n",
    "pd.Series(np)"
   ]
  },
  {
   "cell_type": "markdown",
   "id": "4f8455f4",
   "metadata": {},
   "source": [
    "# 7. Write a pandas program to change the data type of a given a column or a series\n"
   ]
  },
  {
   "cell_type": "code",
   "execution_count": 32,
   "id": "7030c99b",
   "metadata": {},
   "outputs": [
    {
     "data": {
      "text/plain": [
       "0       100\n",
       "1       200\n",
       "2    python\n",
       "3    300.12\n",
       "4       400\n",
       "dtype: object"
      ]
     },
     "execution_count": 32,
     "metadata": {},
     "output_type": "execute_result"
    }
   ],
   "source": [
    "import pandas as pd\n",
    "ds = pd.Series([100,200,'python',300.12,400])\n",
    "ds"
   ]
  },
  {
   "cell_type": "code",
   "execution_count": 34,
   "id": "82b8c472",
   "metadata": {},
   "outputs": [
    {
     "name": "stdout",
     "output_type": "stream",
     "text": [
      "data type to numeric\n"
     ]
    },
    {
     "data": {
      "text/plain": [
       "0    100.00\n",
       "1    200.00\n",
       "2       NaN\n",
       "3    300.12\n",
       "4    400.00\n",
       "dtype: float64"
      ]
     },
     "execution_count": 34,
     "metadata": {},
     "output_type": "execute_result"
    }
   ],
   "source": [
    "print('data type to numeric')\n",
    "ds1 = pd.to_numeric(ds, errors = 'coerce')\n",
    "ds1"
   ]
  },
  {
   "cell_type": "markdown",
   "id": "1dd8d3b5",
   "metadata": {},
   "source": [
    "# 8. Write a pandas program to convert the first column of a dataframe as a series"
   ]
  },
  {
   "cell_type": "code",
   "execution_count": 36,
   "id": "a0c507ee",
   "metadata": {},
   "outputs": [
    {
     "data": {
      "text/html": [
       "<div>\n",
       "<style scoped>\n",
       "    .dataframe tbody tr th:only-of-type {\n",
       "        vertical-align: middle;\n",
       "    }\n",
       "\n",
       "    .dataframe tbody tr th {\n",
       "        vertical-align: top;\n",
       "    }\n",
       "\n",
       "    .dataframe thead th {\n",
       "        text-align: right;\n",
       "    }\n",
       "</style>\n",
       "<table border=\"1\" class=\"dataframe\">\n",
       "  <thead>\n",
       "    <tr style=\"text-align: right;\">\n",
       "      <th></th>\n",
       "      <th>col1</th>\n",
       "      <th>col2</th>\n",
       "      <th>col3</th>\n",
       "    </tr>\n",
       "  </thead>\n",
       "  <tbody>\n",
       "    <tr>\n",
       "      <th>0</th>\n",
       "      <td>0</td>\n",
       "      <td>1</td>\n",
       "      <td>7</td>\n",
       "    </tr>\n",
       "    <tr>\n",
       "      <th>1</th>\n",
       "      <td>1</td>\n",
       "      <td>2</td>\n",
       "      <td>5</td>\n",
       "    </tr>\n",
       "    <tr>\n",
       "      <th>2</th>\n",
       "      <td>2</td>\n",
       "      <td>3</td>\n",
       "      <td>8</td>\n",
       "    </tr>\n",
       "    <tr>\n",
       "      <th>3</th>\n",
       "      <td>3</td>\n",
       "      <td>4</td>\n",
       "      <td>12</td>\n",
       "    </tr>\n",
       "    <tr>\n",
       "      <th>4</th>\n",
       "      <td>4</td>\n",
       "      <td>7</td>\n",
       "      <td>1</td>\n",
       "    </tr>\n",
       "    <tr>\n",
       "      <th>5</th>\n",
       "      <td>5</td>\n",
       "      <td>11</td>\n",
       "      <td>11</td>\n",
       "    </tr>\n",
       "  </tbody>\n",
       "</table>\n",
       "</div>"
      ],
      "text/plain": [
       "   col1  col2  col3\n",
       "0     0     1     7\n",
       "1     1     2     5\n",
       "2     2     3     8\n",
       "3     3     4    12\n",
       "4     4     7     1\n",
       "5     5    11    11"
      ]
     },
     "execution_count": 36,
     "metadata": {},
     "output_type": "execute_result"
    }
   ],
   "source": [
    "import pandas as pd\n",
    "df = pd.DataFrame({'col1' : [0,1,2,3,4,5], 'col2':[1,2,3,4,7,11], 'col3':[7,5,8,12,1,11]})\n",
    "df"
   ]
  },
  {
   "cell_type": "code",
   "execution_count": 38,
   "id": "b9a2d83c",
   "metadata": {},
   "outputs": [
    {
     "data": {
      "text/plain": [
       "0     1\n",
       "1     2\n",
       "2     3\n",
       "3     4\n",
       "4     7\n",
       "5    11\n",
       "Name: col2, dtype: int64"
      ]
     },
     "execution_count": 38,
     "metadata": {},
     "output_type": "execute_result"
    }
   ],
   "source": [
    "df.iloc[:,1]"
   ]
  },
  {
   "cell_type": "markdown",
   "id": "543bb2c0",
   "metadata": {},
   "source": [
    "# 9. Write a pandas program to convert a given series to an array"
   ]
  },
  {
   "cell_type": "code",
   "execution_count": 40,
   "id": "e943c109",
   "metadata": {},
   "outputs": [
    {
     "data": {
      "text/plain": [
       "0       100\n",
       "1       200\n",
       "2    python\n",
       "3    300.12\n",
       "4       400\n",
       "dtype: object"
      ]
     },
     "execution_count": 40,
     "metadata": {},
     "output_type": "execute_result"
    }
   ],
   "source": [
    "import numpy as np\n",
    "import pandas as pd\n",
    "data = pd.Series([100,200,'python',300.12,400])\n",
    "data"
   ]
  },
  {
   "cell_type": "code",
   "execution_count": 42,
   "id": "6678136b",
   "metadata": {},
   "outputs": [
    {
     "data": {
      "text/plain": [
       "array([100, 200, 'python', 300.12, 400], dtype=object)"
      ]
     },
     "execution_count": 42,
     "metadata": {},
     "output_type": "execute_result"
    }
   ],
   "source": [
    "np.array(data)"
   ]
  },
  {
   "cell_type": "markdown",
   "id": "aa0c4e76",
   "metadata": {},
   "source": [
    "# 10.Write a pandas program to convert series of list to one series"
   ]
  },
  {
   "cell_type": "code",
   "execution_count": 44,
   "id": "47b84bc8",
   "metadata": {},
   "outputs": [
    {
     "data": {
      "text/plain": [
       "0    [red, green, white]\n",
       "1           [red, black]\n",
       "2               [yellow]\n",
       "dtype: object"
      ]
     },
     "execution_count": 44,
     "metadata": {},
     "output_type": "execute_result"
    }
   ],
   "source": [
    "import pandas as pd\n",
    "s = pd.Series([\n",
    "    ['red','green','white'],\n",
    "    ['red','black'],\n",
    "    ['yellow']\n",
    "])\n",
    "s"
   ]
  },
  {
   "cell_type": "code",
   "execution_count": 46,
   "id": "b257159a",
   "metadata": {},
   "outputs": [
    {
     "data": {
      "text/plain": [
       "0       red\n",
       "1     green\n",
       "2     white\n",
       "3       red\n",
       "4     black\n",
       "5    yellow\n",
       "dtype: object"
      ]
     },
     "execution_count": 46,
     "metadata": {},
     "output_type": "execute_result"
    }
   ],
   "source": [
    "series = s.apply(pd.Series).stack().reset_index(drop = True)\n",
    "series"
   ]
  },
  {
   "cell_type": "markdown",
   "id": "7b209971",
   "metadata": {},
   "source": [
    "# or"
   ]
  },
  {
   "cell_type": "code",
   "execution_count": 48,
   "id": "9a124a63",
   "metadata": {},
   "outputs": [
    {
     "data": {
      "text/html": [
       "<div>\n",
       "<style scoped>\n",
       "    .dataframe tbody tr th:only-of-type {\n",
       "        vertical-align: middle;\n",
       "    }\n",
       "\n",
       "    .dataframe tbody tr th {\n",
       "        vertical-align: top;\n",
       "    }\n",
       "\n",
       "    .dataframe thead th {\n",
       "        text-align: right;\n",
       "    }\n",
       "</style>\n",
       "<table border=\"1\" class=\"dataframe\">\n",
       "  <thead>\n",
       "    <tr style=\"text-align: right;\">\n",
       "      <th></th>\n",
       "      <th>index</th>\n",
       "      <th>name</th>\n",
       "      <th>age</th>\n",
       "      <th>qualified</th>\n",
       "    </tr>\n",
       "  </thead>\n",
       "  <tbody>\n",
       "    <tr>\n",
       "      <th>0</th>\n",
       "      <td>x</td>\n",
       "      <td>sally</td>\n",
       "      <td>50</td>\n",
       "      <td>True</td>\n",
       "    </tr>\n",
       "    <tr>\n",
       "      <th>1</th>\n",
       "      <td>y</td>\n",
       "      <td>mary</td>\n",
       "      <td>40</td>\n",
       "      <td>False</td>\n",
       "    </tr>\n",
       "    <tr>\n",
       "      <th>2</th>\n",
       "      <td>z</td>\n",
       "      <td>john</td>\n",
       "      <td>34</td>\n",
       "      <td>False</td>\n",
       "    </tr>\n",
       "  </tbody>\n",
       "</table>\n",
       "</div>"
      ],
      "text/plain": [
       "  index   name  age  qualified\n",
       "0     x  sally   50       True\n",
       "1     y   mary   40      False\n",
       "2     z   john   34      False"
      ]
     },
     "execution_count": 48,
     "metadata": {},
     "output_type": "execute_result"
    }
   ],
   "source": [
    "import pandas as pd\n",
    "data = {'name' : ['sally','mary','john'],\n",
    "       'age': [50,40,34],\n",
    "       'qualified': [True,False,False]}\n",
    "idx = ['x','y','z']\n",
    "df = pd.DataFrame(data, index = idx)\n",
    "new_df = df.reset_index()\n",
    "new_df"
   ]
  },
  {
   "cell_type": "markdown",
   "id": "feebcd82",
   "metadata": {},
   "source": [
    "# 11. Write a pandas program to sort a given series"
   ]
  },
  {
   "cell_type": "code",
   "execution_count": 56,
   "id": "0ce950a8",
   "metadata": {},
   "outputs": [
    {
     "name": "stdout",
     "output_type": "stream",
     "text": [
      "original series\n"
     ]
    },
    {
     "data": {
      "text/plain": [
       "0    100.00\n",
       "1    200.00\n",
       "2    500.00\n",
       "3    300.12\n",
       "4    400.00\n",
       "dtype: float64"
      ]
     },
     "execution_count": 56,
     "metadata": {},
     "output_type": "execute_result"
    }
   ],
   "source": [
    "import pandas as pd\n",
    "s = pd.Series([100,200,500,300.12,400])\n",
    "print('original series')\n",
    "s"
   ]
  },
  {
   "cell_type": "code",
   "execution_count": 58,
   "id": "73624c67",
   "metadata": {},
   "outputs": [
    {
     "data": {
      "text/plain": [
       "0    100.00\n",
       "1    200.00\n",
       "3    300.12\n",
       "4    400.00\n",
       "2    500.00\n",
       "dtype: float64"
      ]
     },
     "execution_count": 58,
     "metadata": {},
     "output_type": "execute_result"
    }
   ],
   "source": [
    "sorted_series = s.sort_values(ascending\n",
    "                              = True)\n",
    "sorted_series"
   ]
  },
  {
   "cell_type": "markdown",
   "id": "aafe8c66",
   "metadata": {},
   "source": [
    "# 12. Write a pandas program to add some data to an existing series"
   ]
  },
  {
   "cell_type": "code",
   "execution_count": 60,
   "id": "5d44ab13",
   "metadata": {},
   "outputs": [
    {
     "data": {
      "text/plain": [
       "0       100\n",
       "1       200\n",
       "2    python\n",
       "3    300.12\n",
       "4       400\n",
       "dtype: object"
      ]
     },
     "execution_count": 60,
     "metadata": {},
     "output_type": "execute_result"
    }
   ],
   "source": [
    "import pandas as pd\n",
    "s = pd.Series([100,200,'python',300.12,400])\n",
    "s"
   ]
  },
  {
   "cell_type": "code",
   "execution_count": 64,
   "id": "c78f01f7",
   "metadata": {},
   "outputs": [
    {
     "name": "stderr",
     "output_type": "stream",
     "text": [
      "C:\\Users\\DELL\\AppData\\Local\\Temp\\ipykernel_6072\\628914473.py:1: FutureWarning: The series.append method is deprecated and will be removed from pandas in a future version. Use pandas.concat instead.\n",
      "  new_s = s.append(pd.Series([500,'php']))\n"
     ]
    },
    {
     "data": {
      "text/plain": [
       "0       100\n",
       "1       200\n",
       "2    python\n",
       "3    300.12\n",
       "4       400\n",
       "0       500\n",
       "1       php\n",
       "dtype: object"
      ]
     },
     "execution_count": 64,
     "metadata": {},
     "output_type": "execute_result"
    }
   ],
   "source": [
    "new_s = s.append(pd.Series([500,'php']))\n",
    "new_s"
   ]
  },
  {
   "cell_type": "markdown",
   "id": "d46ac9ec",
   "metadata": {},
   "source": [
    "# 13. Write a pandas program to create a subset of a given series based on value and condition"
   ]
  },
  {
   "cell_type": "code",
   "execution_count": 66,
   "id": "0f91a895",
   "metadata": {},
   "outputs": [
    {
     "data": {
      "text/plain": [
       "0      0\n",
       "1      1\n",
       "2      2\n",
       "3      3\n",
       "4      4\n",
       "5      5\n",
       "6      6\n",
       "7      7\n",
       "8      8\n",
       "9      9\n",
       "10    10\n",
       "dtype: int64"
      ]
     },
     "execution_count": 66,
     "metadata": {},
     "output_type": "execute_result"
    }
   ],
   "source": [
    "import pandas as pd\n",
    "s = pd.Series([0,1,2,3,4,5,6,7,8,9,10])\n",
    "s"
   ]
  },
  {
   "cell_type": "code",
   "execution_count": 68,
   "id": "2c59830f",
   "metadata": {},
   "outputs": [
    {
     "data": {
      "text/plain": [
       "7      7\n",
       "8      8\n",
       "9      9\n",
       "10    10\n",
       "dtype: int64"
      ]
     },
     "execution_count": 68,
     "metadata": {},
     "output_type": "execute_result"
    }
   ],
   "source": [
    "n= 6\n",
    "new_s = s[s>n]\n",
    "new_s"
   ]
  },
  {
   "cell_type": "markdown",
   "id": "02473bc6",
   "metadata": {},
   "source": [
    "# 14. Write a pandas program to change the order of index of a given series"
   ]
  },
  {
   "cell_type": "code",
   "execution_count": 74,
   "id": "6c726e63",
   "metadata": {},
   "outputs": [
    {
     "data": {
      "text/plain": [
       "A    1\n",
       "B    2\n",
       "C    3\n",
       "D    4\n",
       "E    5\n",
       "dtype: int64"
      ]
     },
     "execution_count": 74,
     "metadata": {},
     "output_type": "execute_result"
    }
   ],
   "source": [
    "import pandas as pd\n",
    "s = pd.Series(data = [1,2,3,4,5], index = ['A','B','C','D','E'])\n",
    "s\n"
   ]
  },
  {
   "cell_type": "code",
   "execution_count": 75,
   "id": "93438aec",
   "metadata": {},
   "outputs": [
    {
     "data": {
      "text/plain": [
       "B    2.0\n",
       "A    1.0\n",
       "c    NaN\n",
       "D    4.0\n",
       "E    5.0\n",
       "dtype: float64"
      ]
     },
     "execution_count": 75,
     "metadata": {},
     "output_type": "execute_result"
    }
   ],
   "source": [
    "new_s = s.reindex(index = ['B','A','c','D','E'])\n",
    "new_s"
   ]
  },
  {
   "cell_type": "markdown",
   "id": "3bcf936e",
   "metadata": {},
   "source": [
    "# 15. Write a pandas program to create the mean and standard deviation of the data of a given series"
   ]
  },
  {
   "cell_type": "code",
   "execution_count": 77,
   "id": "f34e7af2",
   "metadata": {},
   "outputs": [
    {
     "data": {
      "text/plain": [
       "0     1\n",
       "1     2\n",
       "2     3\n",
       "3     4\n",
       "4     5\n",
       "5     6\n",
       "6     7\n",
       "7     8\n",
       "8     9\n",
       "9     5\n",
       "10    3\n",
       "dtype: int64"
      ]
     },
     "execution_count": 77,
     "metadata": {},
     "output_type": "execute_result"
    }
   ],
   "source": [
    "import pandas as pd\n",
    "s = pd.Series([1,2,3,4,5,6,7,8,9,5,3])\n",
    "s"
   ]
  },
  {
   "cell_type": "code",
   "execution_count": 79,
   "id": "c843c0a1",
   "metadata": {},
   "outputs": [
    {
     "data": {
      "text/plain": [
       "4.818181818181818"
      ]
     },
     "execution_count": 79,
     "metadata": {},
     "output_type": "execute_result"
    }
   ],
   "source": [
    "s.mean()\n"
   ]
  },
  {
   "cell_type": "code",
   "execution_count": 81,
   "id": "f637224c",
   "metadata": {},
   "outputs": [
    {
     "data": {
      "text/plain": [
       "2.522624895547565"
      ]
     },
     "execution_count": 81,
     "metadata": {},
     "output_type": "execute_result"
    }
   ],
   "source": [
    "s.std()"
   ]
  },
  {
   "cell_type": "markdown",
   "id": "37e14fb5",
   "metadata": {},
   "source": [
    "# 16. Write a pandas program to get the items of a given series not present in another given series"
   ]
  },
  {
   "cell_type": "code",
   "execution_count": 84,
   "id": "4c81ce17",
   "metadata": {},
   "outputs": [
    {
     "name": "stdout",
     "output_type": "stream",
     "text": [
      "items of str1 not present in str2\n",
      "0     True\n",
      "1    False\n",
      "2     True\n",
      "3    False\n",
      "4     True\n",
      "dtype: bool\n"
     ]
    }
   ],
   "source": [
    "import pandas as pd\n",
    "str1 = pd.Series([1,2,3,4,5])\n",
    "str2 = pd.Series([2,4,6,8,10])\n",
    "print('items of str1 not present in str2')\n",
    "print(~str1.isin(str2))"
   ]
  },
  {
   "cell_type": "markdown",
   "id": "fca96ff5",
   "metadata": {},
   "source": [
    "# 17. Write a pandas program to get the items which are not common of two given series"
   ]
  },
  {
   "cell_type": "code",
   "execution_count": 88,
   "id": "adc44524",
   "metadata": {},
   "outputs": [
    {
     "data": {
      "text/plain": [
       "0     1\n",
       "1     2\n",
       "2     3\n",
       "3     4\n",
       "4     5\n",
       "5     6\n",
       "6     8\n",
       "7    10\n",
       "dtype: int64"
      ]
     },
     "execution_count": 88,
     "metadata": {},
     "output_type": "execute_result"
    }
   ],
   "source": [
    "import pandas as pd\n",
    "import numpy as np\n",
    "str1 = pd.Series([1,2,3,4,5])\n",
    "str2 = pd.Series([2,4,6,8,10])\n",
    "sr11 = pd.Series(np.union1d(str1,str2))\n",
    "sr11"
   ]
  },
  {
   "cell_type": "code",
   "execution_count": 91,
   "id": "e922f4f1",
   "metadata": {},
   "outputs": [
    {
     "data": {
      "text/plain": [
       "0    2\n",
       "1    4\n",
       "dtype: int64"
      ]
     },
     "execution_count": 91,
     "metadata": {},
     "output_type": "execute_result"
    }
   ],
   "source": [
    "sr22 = pd.Series(np.intersect1d(str1,str2))\n",
    "sr22"
   ]
  },
  {
   "cell_type": "code",
   "execution_count": 92,
   "id": "9cf5a469",
   "metadata": {},
   "outputs": [
    {
     "data": {
      "text/plain": [
       "0     1\n",
       "2     3\n",
       "4     5\n",
       "5     6\n",
       "6     8\n",
       "7    10\n",
       "dtype: int64"
      ]
     },
     "execution_count": 92,
     "metadata": {},
     "output_type": "execute_result"
    }
   ],
   "source": [
    "result = sr11[~sr11.isin(sr22)]\n",
    "result"
   ]
  },
  {
   "cell_type": "markdown",
   "id": "eb6a273c",
   "metadata": {},
   "source": [
    "# 18. Write a pandas program to compute the minimum, 25th percentile, median, 75th, and maximum of a given series"
   ]
  },
  {
   "cell_type": "code",
   "execution_count": 95,
   "id": "8c53e6ae",
   "metadata": {},
   "outputs": [
    {
     "data": {
      "text/plain": [
       "0      3.000938\n",
       "1     11.370722\n",
       "2     14.612143\n",
       "3      8.990256\n",
       "4     13.925283\n",
       "5     12.056875\n",
       "6     10.884719\n",
       "7      5.719827\n",
       "8      9.242017\n",
       "9     11.020006\n",
       "10     8.167892\n",
       "11    11.740654\n",
       "12     7.665620\n",
       "13    13.267388\n",
       "14    12.690883\n",
       "15     9.582355\n",
       "16     7.874878\n",
       "17    14.118931\n",
       "18     8.247458\n",
       "19     5.526727\n",
       "dtype: float64"
      ]
     },
     "execution_count": 95,
     "metadata": {},
     "output_type": "execute_result"
    }
   ],
   "source": [
    "import pandas as pd\n",
    "import numpy as np\n",
    "num_state = np.random.RandomState(100)\n",
    "num_series = pd.Series(num_state.normal(10,4,20))\n",
    "num_series"
   ]
  },
  {
   "cell_type": "code",
   "execution_count": 96,
   "id": "6ab3a21b",
   "metadata": {},
   "outputs": [
    {
     "data": {
      "text/plain": [
       "array([ 3.480838  ,  8.09463867, 10.23353705, 12.21537733, 14.61214321])"
      ]
     },
     "execution_count": 96,
     "metadata": {},
     "output_type": "execute_result"
    }
   ],
   "source": [
    "result = np.percentile(num_series, q = [1,25,50,75,100])\n",
    "result"
   ]
  },
  {
   "cell_type": "markdown",
   "id": "1fa2ab1a",
   "metadata": {},
   "source": [
    "# 19. Write a pandas program to calculate the frequency counts of each unique value of a given series"
   ]
  },
  {
   "cell_type": "code",
   "execution_count": 98,
   "id": "57bfed43",
   "metadata": {},
   "outputs": [
    {
     "data": {
      "text/plain": [
       "0     0\n",
       "1     0\n",
       "2     7\n",
       "3     7\n",
       "4     9\n",
       "5     9\n",
       "6     1\n",
       "7     0\n",
       "8     5\n",
       "9     3\n",
       "10    3\n",
       "11    3\n",
       "12    5\n",
       "13    3\n",
       "14    9\n",
       "15    4\n",
       "16    6\n",
       "17    6\n",
       "18    5\n",
       "19    7\n",
       "20    6\n",
       "21    4\n",
       "22    5\n",
       "23    7\n",
       "24    5\n",
       "25    8\n",
       "26    6\n",
       "27    4\n",
       "28    1\n",
       "29    1\n",
       "30    6\n",
       "31    9\n",
       "32    8\n",
       "33    2\n",
       "34    9\n",
       "35    8\n",
       "36    8\n",
       "37    5\n",
       "38    4\n",
       "39    7\n",
       "dtype: int32"
      ]
     },
     "execution_count": 98,
     "metadata": {},
     "output_type": "execute_result"
    }
   ],
   "source": [
    "import pandas as pd\n",
    "import numpy as np\n",
    "num = np.random.randint(10,size = 40)\n",
    "s = pd.Series(num)\n",
    "s"
   ]
  },
  {
   "cell_type": "code",
   "execution_count": 100,
   "id": "13e8efb5",
   "metadata": {},
   "outputs": [
    {
     "data": {
      "text/plain": [
       "5    6\n",
       "7    5\n",
       "9    5\n",
       "6    5\n",
       "3    4\n",
       "4    4\n",
       "8    4\n",
       "0    3\n",
       "1    3\n",
       "2    1\n",
       "dtype: int64"
      ]
     },
     "execution_count": 100,
     "metadata": {},
     "output_type": "execute_result"
    }
   ],
   "source": [
    "result = s.value_counts()\n",
    "result"
   ]
  },
  {
   "cell_type": "markdown",
   "id": "22434047",
   "metadata": {},
   "source": [
    "# 20. Write a pandas program to display most frequent value in a given series and replace everythig else as 'other' in the series"
   ]
  },
  {
   "cell_type": "code",
   "execution_count": 104,
   "id": "5c294d5b",
   "metadata": {},
   "outputs": [
    {
     "data": {
      "text/plain": [
       "0     2\n",
       "1     2\n",
       "2     4\n",
       "3     1\n",
       "4     2\n",
       "5     3\n",
       "6     3\n",
       "7     3\n",
       "8     1\n",
       "9     3\n",
       "10    2\n",
       "11    2\n",
       "12    4\n",
       "13    2\n",
       "14    1\n",
       "dtype: int32"
      ]
     },
     "execution_count": 104,
     "metadata": {},
     "output_type": "execute_result"
    }
   ],
   "source": [
    "import pandas as pd\n",
    "import numpy as np\n",
    "num = np.random.randint(1,5,size = 15)\n",
    "s = pd.Series(num)\n",
    "s"
   ]
  },
  {
   "cell_type": "code",
   "execution_count": 106,
   "id": "8248f8f4",
   "metadata": {},
   "outputs": [
    {
     "data": {
      "text/plain": [
       "2    6\n",
       "3    4\n",
       "1    3\n",
       "4    2\n",
       "dtype: int64"
      ]
     },
     "execution_count": 106,
     "metadata": {},
     "output_type": "execute_result"
    }
   ],
   "source": [
    "result = s.value_counts()\n",
    "result"
   ]
  },
  {
   "cell_type": "code",
   "execution_count": 108,
   "id": "f28b8db2",
   "metadata": {},
   "outputs": [
    {
     "data": {
      "text/plain": [
       "0     Other\n",
       "1     Other\n",
       "2     Other\n",
       "3     Other\n",
       "4     Other\n",
       "5     Other\n",
       "6     Other\n",
       "7     Other\n",
       "8     Other\n",
       "9     Other\n",
       "10    Other\n",
       "11    Other\n",
       "12    Other\n",
       "13    Other\n",
       "14    Other\n",
       "dtype: object"
      ]
     },
     "execution_count": 108,
     "metadata": {},
     "output_type": "execute_result"
    }
   ],
   "source": [
    "result = s[~s.isin(s.value_counts().index[:1])] = 'Other'\n",
    "s"
   ]
  },
  {
   "cell_type": "markdown",
   "id": "c1451a30",
   "metadata": {},
   "source": [
    "# 21. Write a pandas program to find the positions of numbers that are multiples of 5 of a given series"
   ]
  },
  {
   "cell_type": "code",
   "execution_count": null,
   "id": "d24a6245",
   "metadata": {},
   "outputs": [],
   "source": [
    "import"
   ]
  }
 ],
 "metadata": {
  "kernelspec": {
   "display_name": "Python 3 (ipykernel)",
   "language": "python",
   "name": "python3"
  },
  "language_info": {
   "codemirror_mode": {
    "name": "ipython",
    "version": 3
   },
   "file_extension": ".py",
   "mimetype": "text/x-python",
   "name": "python",
   "nbconvert_exporter": "python",
   "pygments_lexer": "ipython3",
   "version": "3.9.13"
  }
 },
 "nbformat": 4,
 "nbformat_minor": 5
}
