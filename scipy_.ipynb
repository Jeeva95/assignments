{
 "cells": [
  {
   "cell_type": "markdown",
   "id": "07a9a151",
   "metadata": {},
   "source": [
    "# Importing scipy"
   ]
  },
  {
   "cell_type": "code",
   "execution_count": 4,
   "id": "223b0275",
   "metadata": {},
   "outputs": [],
   "source": [
    "import scipy\n",
    "import numpy as np"
   ]
  },
  {
   "cell_type": "markdown",
   "id": "546df6bc",
   "metadata": {},
   "source": [
    "# Linear algebra"
   ]
  },
  {
   "cell_type": "code",
   "execution_count": 6,
   "id": "cd5bd2a0",
   "metadata": {},
   "outputs": [
    {
     "data": {
      "text/plain": [
       "-2.0"
      ]
     },
     "execution_count": 6,
     "metadata": {},
     "output_type": "execute_result"
    }
   ],
   "source": [
    "from scipy import linalg\n",
    "A = np.array([[1,2],\n",
    "             [3,4]])\n",
    "linalg.det(A)"
   ]
  },
  {
   "cell_type": "markdown",
   "id": "f76d3856",
   "metadata": {},
   "source": [
    "# Inversing a matrix"
   ]
  },
  {
   "cell_type": "code",
   "execution_count": 8,
   "id": "ae94feb6",
   "metadata": {},
   "outputs": [
    {
     "data": {
      "text/plain": [
       "array([[-0.03319502,  0.0373444 ],\n",
       "       [ 0.13692946, -0.02904564]])"
      ]
     },
     "execution_count": 8,
     "metadata": {},
     "output_type": "execute_result"
    }
   ],
   "source": [
    "from scipy import linalg\n",
    "x = np.array([[7,9],\n",
    "             [33,8]])\n",
    "linalg.inv(x)"
   ]
  },
  {
   "cell_type": "markdown",
   "id": "6fcfee91",
   "metadata": {},
   "source": [
    "# Eigen values and Eigen vectors"
   ]
  },
  {
   "cell_type": "code",
   "execution_count": 10,
   "id": "3fbe3ff2",
   "metadata": {},
   "outputs": [
    {
     "data": {
      "text/plain": [
       "array([-0.37228132+0.j,  5.37228132+0.j])"
      ]
     },
     "execution_count": 10,
     "metadata": {},
     "output_type": "execute_result"
    }
   ],
   "source": [
    "from scipy import linalg\n",
    "A = np.array([[1,2],\n",
    "             [3,4]])\n",
    "l,v = linalg.eig(A)\n",
    "l"
   ]
  },
  {
   "cell_type": "code",
   "execution_count": 12,
   "id": "e1878375",
   "metadata": {},
   "outputs": [
    {
     "data": {
      "text/plain": [
       "array([[-0.82456484, -0.41597356],\n",
       "       [ 0.56576746, -0.90937671]])"
      ]
     },
     "execution_count": 12,
     "metadata": {},
     "output_type": "execute_result"
    }
   ],
   "source": [
    "v"
   ]
  },
  {
   "cell_type": "markdown",
   "id": "d9306824",
   "metadata": {},
   "source": [
    "# Solving three equations"
   ]
  },
  {
   "cell_type": "markdown",
   "id": "e3bc7a7a",
   "metadata": {},
   "source": [
    "# 3x + 2y = 2, x - y = 4, 5y + z = -1"
   ]
  },
  {
   "cell_type": "code",
   "execution_count": 14,
   "id": "310e038c",
   "metadata": {},
   "outputs": [
    {
     "data": {
      "text/plain": [
       "array([ 2., -2.,  9.])"
      ]
     },
     "execution_count": 14,
     "metadata": {},
     "output_type": "execute_result"
    }
   ],
   "source": [
    "from scipy import linalg\n",
    "A = np.array([[3,2,0],\n",
    "             [1,-1,0],\n",
    "             [0,5,1]])\n",
    "B = np.array([2,4,-1])\n",
    "linalg.solve(A,B)"
   ]
  },
  {
   "cell_type": "markdown",
   "id": "e13f042d",
   "metadata": {},
   "source": [
    "# 3x + 2y = 2, x - y = 4, 5y + z = -1, 3x - 2y - z = 1"
   ]
  },
  {
   "cell_type": "code",
   "execution_count": 17,
   "id": "5d50c7fe",
   "metadata": {},
   "outputs": [
    {
     "data": {
      "text/plain": [
       "array([[ 0.2       , -0.2       ,  1.        ],\n",
       "       [-0.2       ,  0.30526316, -1.36842105],\n",
       "       [ 1.        , -1.36842105,  6.78947368]])"
      ]
     },
     "execution_count": 17,
     "metadata": {},
     "output_type": "execute_result"
    }
   ],
   "source": [
    "from scipy import linalg\n",
    "A = np.array([[3,2,0],\n",
    "             [1,-1,0],\n",
    "             [0,5,1],\n",
    "             [3,-2,-1]])\n",
    "B = np.array([2,4,-1,1])\n"
   ]
  },
  {
   "cell_type": "code",
   "execution_count": 21,
   "id": "a238593b",
   "metadata": {},
   "outputs": [
    {
     "data": {
      "text/plain": [
       "array([[ 55,  65,   5],\n",
       "       [ 20, -35, -10],\n",
       "       [ -8, 177,  37],\n",
       "       [ 62, -78, -25]])"
      ]
     },
     "execution_count": 21,
     "metadata": {},
     "output_type": "execute_result"
    }
   ],
   "source": [
    "x2 = np.dot(A.T,A)\n",
    "np.dot(A,x2)"
   ]
  },
  {
   "cell_type": "markdown",
   "id": "1f62e60b",
   "metadata": {},
   "source": [
    "# Interpolation"
   ]
  },
  {
   "cell_type": "code",
   "execution_count": 31,
   "id": "51312dbf",
   "metadata": {},
   "outputs": [
    {
     "data": {
      "text/plain": [
       "array([0.        , 0.36363636, 0.72727273, 1.09090909, 1.45454545,\n",
       "       1.81818182, 2.18181818, 2.54545455, 2.90909091, 3.27272727,\n",
       "       3.63636364, 4.        ])"
      ]
     },
     "execution_count": 31,
     "metadata": {},
     "output_type": "execute_result"
    }
   ],
   "source": [
    "import numpy as np\n",
    "from scipy import interpolate\n",
    "import matplotlib.pyplot as plt\n",
    "x = np.linspace(0,4,12)\n",
    "y = np.cos(x**2/3+4)\n",
    "x"
   ]
  },
  {
   "cell_type": "code",
   "execution_count": 32,
   "id": "f8d32a0a",
   "metadata": {},
   "outputs": [
    {
     "data": {
      "text/plain": [
       "array([-0.65364362, -0.61966189, -0.51077021, -0.31047698, -0.00715476,\n",
       "        0.37976236,  0.76715099,  0.99239518,  0.85886263,  0.27994201,\n",
       "       -0.52586509, -0.99582185])"
      ]
     },
     "execution_count": 32,
     "metadata": {},
     "output_type": "execute_result"
    }
   ],
   "source": [
    "y"
   ]
  },
  {
   "cell_type": "code",
   "execution_count": 33,
   "id": "6197d21e",
   "metadata": {},
   "outputs": [
    {
     "data": {
      "image/png": "[encoded data removed]",
      "text/plain": [
       "<Figure size 640x480 with 1 Axes>"
      ]
     },
     "metadata": {},
     "output_type": "display_data"
    }
   ],
   "source": [
    "f1 = interpolate.interp1d(x, y,kind = 'linear')\n",
    "f2 = interpolate.interp1d(x, y, kind = 'cubic')\n",
    "\n",
    "xnew = np.linspace(0, 4, 30)\n",
    "\n",
    "plt.plot(x, y, 'o', xnew, f1(xnew), '-', xnew, f2(xnew), '--')\n",
    "plt.legend(['data', 'linear', 'cubic'], loc = 'best')\n",
    "plt.show()"
   ]
  },
  {
   "cell_type": "markdown",
   "id": "60007738",
   "metadata": {},
   "source": [
    "# Optimization"
   ]
  },
  {
   "cell_type": "code",
   "execution_count": 35,
   "id": "7f80761d",
   "metadata": {},
   "outputs": [
    {
     "data": {
      "text/plain": [
       "    fjac: array([[-1.]])\n",
       "     fun: array([0.])\n",
       " message: 'The solution converged.'\n",
       "    nfev: 10\n",
       "     qtf: array([-2.77666778e-12])\n",
       "       r: array([-3.3472241])\n",
       "  status: 1\n",
       " success: True\n",
       "       x: array([-0.73908513])"
      ]
     },
     "execution_count": 35,
     "metadata": {},
     "output_type": "execute_result"
    }
   ],
   "source": [
    "import numpy as np\n",
    "from scipy.optimize import root\n",
    "def func(x):\n",
    "    return x*2 + 2 * np.cos(x)\n",
    "sol = root(func, 0.3)\n",
    "sol"
   ]
  },
  {
   "cell_type": "markdown",
   "id": "31e9102c",
   "metadata": {},
   "source": [
    "# Minimize"
   ]
  },
  {
   "cell_type": "code",
   "execution_count": 38,
   "id": "7e0e7579",
   "metadata": {},
   "outputs": [
    {
     "data": {
      "text/plain": [
       "    fjac: array([[-1.]])\n",
       "     fun: array([0.])\n",
       " message: 'The solution converged.'\n",
       "    nfev: 9\n",
       "     qtf: array([-2.66786593e-13])\n",
       "       r: array([-1.67361202])\n",
       "  status: 1\n",
       " success: True\n",
       "       x: array([-0.73908513])"
      ]
     },
     "execution_count": 38,
     "metadata": {},
     "output_type": "execute_result"
    }
   ],
   "source": [
    "from scipy.optimize import root\n",
    "from math import cos\n",
    "def eqn(x):\n",
    "    return x+cos(x)\n",
    "myroot = root(eqn,0)\n",
    "myroot"
   ]
  },
  {
   "cell_type": "markdown",
   "id": "90469902",
   "metadata": {},
   "source": [
    "# single integrals"
   ]
  },
  {
   "cell_type": "code",
   "execution_count": 40,
   "id": "bc941614",
   "metadata": {},
   "outputs": [
    {
     "data": {
      "text/plain": [
       "(0.7468241328124271, 8.291413475940725e-15)"
      ]
     },
     "execution_count": 40,
     "metadata": {},
     "output_type": "execute_result"
    }
   ],
   "source": [
    "import numpy as np\n",
    "import scipy.integrate\n",
    "from numpy import exp\n",
    "f = lambda x : exp(-x**2)\n",
    "i = scipy.integrate.quad(f,0,1)\n",
    "i"
   ]
  },
  {
   "cell_type": "markdown",
   "id": "0a212b6e",
   "metadata": {},
   "source": [
    "# Double integrals"
   ]
  },
  {
   "cell_type": "code",
   "execution_count": 44,
   "id": "1f9440fd",
   "metadata": {},
   "outputs": [
    {
     "data": {
      "text/plain": [
       "(0.5, 1.7092350012594845e-14)"
      ]
     },
     "execution_count": 44,
     "metadata": {},
     "output_type": "execute_result"
    }
   ],
   "source": [
    "import numpy as np\n",
    "import scipy.integrate\n",
    "from numpy import exp\n",
    "from math import sqrt\n",
    "f = lambda x,y : 16*x*y\n",
    "g = lambda x : 0\n",
    "h = lambda y : sqrt(1-4*y**2)\n",
    "i = scipy.integrate.dblquad(f,0,0.5,g,h)\n",
    "i"
   ]
  },
  {
   "cell_type": "code",
   "execution_count": null,
   "id": "f62d5c36",
   "metadata": {},
   "outputs": [],
   "source": []
  }
 ],
 "metadata": {
  "kernelspec": {
   "display_name": "Python 3 (ipykernel)",
   "language": "python",
   "name": "python3"
  },
  "language_info": {
   "codemirror_mode": {
    "name": "ipython",
    "version": 3
   },
   "file_extension": ".py",
   "mimetype": "text/x-python",
   "name": "python",
   "nbconvert_exporter": "python",
   "pygments_lexer": "ipython3",
   "version": "3.9.13"
  }
 },
 "nbformat": 4,
 "nbformat_minor": 5
}
